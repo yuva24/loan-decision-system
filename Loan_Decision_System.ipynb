{
  "cells": [
    {
      "cell_type": "markdown",
      "metadata": {
        "id": "view-in-github",
        "colab_type": "text"
      },
      "source": [
        "<a href=\"https://colab.research.google.com/github/yuva24/loan-decision-system/blob/main/Loan_Decision_System.ipynb\" target=\"_parent\"><img src=\"https://colab.research.google.com/assets/colab-badge.svg\" alt=\"Open In Colab\"/></a>"
      ]
    },
    {
      "cell_type": "markdown",
      "metadata": {
        "id": "2k0oOZTqGamd"
      },
      "source": [
        "# Intelligent Decision-Making for Loan Application"
      ]
    },
    {
      "cell_type": "markdown",
      "metadata": {
        "id": "14nJpyFOGamf"
      },
      "source": [
        "# Import packages"
      ]
    },
    {
      "cell_type": "code",
      "execution_count": null,
      "metadata": {
        "id": "u1xIEYc-Gamg"
      },
      "outputs": [],
      "source": [
        "\n",
        "import pandas as pd\n",
        "import numpy as np\n",
        "import seaborn as sns\n",
        "from sklearn.linear_model import LinearRegression, LogisticRegression\n",
        "from sklearn import preprocessing, datasets\n",
        "from sklearn.preprocessing import LabelEncoder, StandardScaler\n",
        "from imblearn.over_sampling import SMOTE\n",
        "import matplotlib.pyplot as plt\n",
        "import chart_studio.plotly as py\n",
        "import plotly.figure_factory as ff\n",
        "import plotly.graph_objs as go\n",
        "from plotly.offline import download_plotlyjs, init_notebook_mode, plot, iplot\n",
        "from sklearn.pipeline import make_pipeline\n",
        "from sklearn.model_selection import KFold\n",
        "from sklearn.neighbors import KNeighborsRegressor\n",
        "from sklearn.metrics import mean_squared_error, r2_score\n",
        "from sklearn.model_selection import cross_val_predict\n",
        "from sklearn.linear_model import LinearRegression\n",
        "from sklearn.feature_selection import SelectKBest\n",
        "from sklearn.feature_selection import chi2\n",
        "from math import sqrt\n",
        "import streamlit as st \n",
        "\n",
        "\n",
        "df = pd.read_csv(\"Bank_CS.csv\")\n"
      ]
    },
    {
      "cell_type": "markdown",
      "metadata": {
        "id": "Kzg6RyDOGamp"
      },
      "source": [
        "# Exploratory Data Analysis and Data Pre-Processing"
      ]
    },
    {
      "cell_type": "markdown",
      "metadata": {
        "id": "rjBpEhvgGams"
      },
      "source": [
        "## Understanding the Data"
      ]
    },
    {
      "cell_type": "code",
      "execution_count": null,
      "metadata": {
        "id": "5WO2YeO0Ganp",
        "outputId": "0fe740e7-a4c7-40ca-c39d-d329f1343780"
      },
      "outputs": [
        {
          "data": {
            "text/html": [
              "<div>\n",
              "<style scoped>\n",
              "    .dataframe tbody tr th:only-of-type {\n",
              "        vertical-align: middle;\n",
              "    }\n",
              "\n",
              "    .dataframe tbody tr th {\n",
              "        vertical-align: top;\n",
              "    }\n",
              "\n",
              "    .dataframe thead th {\n",
              "        text-align: right;\n",
              "    }\n",
              "</style>\n",
              "<table border=\"1\" class=\"dataframe\">\n",
              "  <thead>\n",
              "    <tr style=\"text-align: right;\">\n",
              "      <th></th>\n",
              "      <th>Unnamed: 0</th>\n",
              "      <th>Unnamed: 0.1</th>\n",
              "      <th>Credit_Card_Exceed_Months</th>\n",
              "      <th>Employment_Type</th>\n",
              "      <th>Loan_Amount</th>\n",
              "      <th>Loan_Tenure_Year</th>\n",
              "      <th>More_Than_One_Products</th>\n",
              "      <th>Credit_Card_types</th>\n",
              "      <th>Number_of_Dependents</th>\n",
              "      <th>Years_to_Financial_Freedom</th>\n",
              "      <th>...</th>\n",
              "      <th>Number_of_Loan_to_Approve</th>\n",
              "      <th>Property_Type</th>\n",
              "      <th>Years_for_Property_to_Completion</th>\n",
              "      <th>State</th>\n",
              "      <th>Number_of_Side_Income</th>\n",
              "      <th>Monthly_Salary</th>\n",
              "      <th>Total_Sum_of_Loan</th>\n",
              "      <th>Total_Income_for_Join_Application</th>\n",
              "      <th>Decision</th>\n",
              "      <th>Score</th>\n",
              "    </tr>\n",
              "  </thead>\n",
              "  <tbody>\n",
              "    <tr>\n",
              "      <td>0</td>\n",
              "      <td>0</td>\n",
              "      <td>0</td>\n",
              "      <td>1</td>\n",
              "      <td>employer</td>\n",
              "      <td>NaN</td>\n",
              "      <td>16.0</td>\n",
              "      <td>yes</td>\n",
              "      <td>platinum</td>\n",
              "      <td>2</td>\n",
              "      <td>5.0</td>\n",
              "      <td>...</td>\n",
              "      <td>1</td>\n",
              "      <td>condominium</td>\n",
              "      <td>10.0</td>\n",
              "      <td>Johor</td>\n",
              "      <td>2.0</td>\n",
              "      <td>12262.0</td>\n",
              "      <td>853141.0</td>\n",
              "      <td>16025.0</td>\n",
              "      <td>Reject</td>\n",
              "      <td>7</td>\n",
              "    </tr>\n",
              "    <tr>\n",
              "      <td>1</td>\n",
              "      <td>1</td>\n",
              "      <td>1</td>\n",
              "      <td>1</td>\n",
              "      <td>employer</td>\n",
              "      <td>605505.0</td>\n",
              "      <td>19.0</td>\n",
              "      <td>no</td>\n",
              "      <td>normal</td>\n",
              "      <td>2</td>\n",
              "      <td>NaN</td>\n",
              "      <td>...</td>\n",
              "      <td>2</td>\n",
              "      <td>NaN</td>\n",
              "      <td>10.0</td>\n",
              "      <td>Johor</td>\n",
              "      <td>2.0</td>\n",
              "      <td>9251.0</td>\n",
              "      <td>882901.0</td>\n",
              "      <td>17082.0</td>\n",
              "      <td>Accept</td>\n",
              "      <td>9</td>\n",
              "    </tr>\n",
              "    <tr>\n",
              "      <td>2</td>\n",
              "      <td>2</td>\n",
              "      <td>2</td>\n",
              "      <td>1</td>\n",
              "      <td>employer</td>\n",
              "      <td>NaN</td>\n",
              "      <td>NaN</td>\n",
              "      <td>yes</td>\n",
              "      <td>normal</td>\n",
              "      <td>2</td>\n",
              "      <td>5.0</td>\n",
              "      <td>...</td>\n",
              "      <td>3</td>\n",
              "      <td>condominium</td>\n",
              "      <td>10.0</td>\n",
              "      <td>Johor</td>\n",
              "      <td>NaN</td>\n",
              "      <td>4919.0</td>\n",
              "      <td>540489.0</td>\n",
              "      <td>12613.0</td>\n",
              "      <td>Reject</td>\n",
              "      <td>8</td>\n",
              "    </tr>\n",
              "    <tr>\n",
              "      <td>3</td>\n",
              "      <td>3</td>\n",
              "      <td>3</td>\n",
              "      <td>1</td>\n",
              "      <td>employer</td>\n",
              "      <td>490216.0</td>\n",
              "      <td>NaN</td>\n",
              "      <td>no</td>\n",
              "      <td>normal</td>\n",
              "      <td>2</td>\n",
              "      <td>5.0</td>\n",
              "      <td>...</td>\n",
              "      <td>1</td>\n",
              "      <td>condominium</td>\n",
              "      <td>10.0</td>\n",
              "      <td>Johor</td>\n",
              "      <td>NaN</td>\n",
              "      <td>4459.0</td>\n",
              "      <td>536727.0</td>\n",
              "      <td>10952.0</td>\n",
              "      <td>Accept</td>\n",
              "      <td>9</td>\n",
              "    </tr>\n",
              "    <tr>\n",
              "      <td>4</td>\n",
              "      <td>4</td>\n",
              "      <td>4</td>\n",
              "      <td>1</td>\n",
              "      <td>employer</td>\n",
              "      <td>292728.0</td>\n",
              "      <td>14.0</td>\n",
              "      <td>yes</td>\n",
              "      <td>normal</td>\n",
              "      <td>2</td>\n",
              "      <td>5.0</td>\n",
              "      <td>...</td>\n",
              "      <td>2</td>\n",
              "      <td>condominium</td>\n",
              "      <td>10.0</td>\n",
              "      <td>Johor</td>\n",
              "      <td>3.0</td>\n",
              "      <td>5628.0</td>\n",
              "      <td>774695.0</td>\n",
              "      <td>NaN</td>\n",
              "      <td>Reject</td>\n",
              "      <td>8</td>\n",
              "    </tr>\n",
              "    <tr>\n",
              "      <td>5</td>\n",
              "      <td>5</td>\n",
              "      <td>5</td>\n",
              "      <td>1</td>\n",
              "      <td>employer</td>\n",
              "      <td>198118.0</td>\n",
              "      <td>NaN</td>\n",
              "      <td>no</td>\n",
              "      <td>normal</td>\n",
              "      <td>2</td>\n",
              "      <td>5.0</td>\n",
              "      <td>...</td>\n",
              "      <td>2</td>\n",
              "      <td>condominium</td>\n",
              "      <td>NaN</td>\n",
              "      <td>Johor</td>\n",
              "      <td>2.0</td>\n",
              "      <td>11323.0</td>\n",
              "      <td>1350187.0</td>\n",
              "      <td>16349.0</td>\n",
              "      <td>Reject</td>\n",
              "      <td>7</td>\n",
              "    </tr>\n",
              "    <tr>\n",
              "      <td>6</td>\n",
              "      <td>6</td>\n",
              "      <td>6</td>\n",
              "      <td>1</td>\n",
              "      <td>employer</td>\n",
              "      <td>226681.0</td>\n",
              "      <td>NaN</td>\n",
              "      <td>yes</td>\n",
              "      <td>gold</td>\n",
              "      <td>2</td>\n",
              "      <td>5.0</td>\n",
              "      <td>...</td>\n",
              "      <td>1</td>\n",
              "      <td>condominium</td>\n",
              "      <td>10.0</td>\n",
              "      <td>Johor</td>\n",
              "      <td>NaN</td>\n",
              "      <td>NaN</td>\n",
              "      <td>615986.0</td>\n",
              "      <td>11172.0</td>\n",
              "      <td>Accept</td>\n",
              "      <td>7</td>\n",
              "    </tr>\n",
              "    <tr>\n",
              "      <td>7</td>\n",
              "      <td>7</td>\n",
              "      <td>7</td>\n",
              "      <td>1</td>\n",
              "      <td>employer</td>\n",
              "      <td>667042.0</td>\n",
              "      <td>21.0</td>\n",
              "      <td>no</td>\n",
              "      <td>normal</td>\n",
              "      <td>2</td>\n",
              "      <td>5.0</td>\n",
              "      <td>...</td>\n",
              "      <td>2</td>\n",
              "      <td>condominium</td>\n",
              "      <td>10.0</td>\n",
              "      <td>Johor</td>\n",
              "      <td>NaN</td>\n",
              "      <td>NaN</td>\n",
              "      <td>NaN</td>\n",
              "      <td>7543.0</td>\n",
              "      <td>Reject</td>\n",
              "      <td>8</td>\n",
              "    </tr>\n",
              "    <tr>\n",
              "      <td>8</td>\n",
              "      <td>8</td>\n",
              "      <td>8</td>\n",
              "      <td>1</td>\n",
              "      <td>employer</td>\n",
              "      <td>114428.0</td>\n",
              "      <td>24.0</td>\n",
              "      <td>yes</td>\n",
              "      <td>normal</td>\n",
              "      <td>2</td>\n",
              "      <td>5.0</td>\n",
              "      <td>...</td>\n",
              "      <td>2</td>\n",
              "      <td>condominium</td>\n",
              "      <td>10.0</td>\n",
              "      <td>Johor</td>\n",
              "      <td>NaN</td>\n",
              "      <td>11983.0</td>\n",
              "      <td>556822.0</td>\n",
              "      <td>12947.0</td>\n",
              "      <td>Accept</td>\n",
              "      <td>8</td>\n",
              "    </tr>\n",
              "    <tr>\n",
              "      <td>9</td>\n",
              "      <td>9</td>\n",
              "      <td>9</td>\n",
              "      <td>1</td>\n",
              "      <td>employer</td>\n",
              "      <td>NaN</td>\n",
              "      <td>12.0</td>\n",
              "      <td>no</td>\n",
              "      <td>gold</td>\n",
              "      <td>2</td>\n",
              "      <td>5.0</td>\n",
              "      <td>...</td>\n",
              "      <td>1</td>\n",
              "      <td>condominium</td>\n",
              "      <td>10.0</td>\n",
              "      <td>Johor</td>\n",
              "      <td>2.0</td>\n",
              "      <td>NaN</td>\n",
              "      <td>1155848.0</td>\n",
              "      <td>18385.0</td>\n",
              "      <td>Reject</td>\n",
              "      <td>7</td>\n",
              "    </tr>\n",
              "  </tbody>\n",
              "</table>\n",
              "<p>10 rows × 23 columns</p>\n",
              "</div>"
            ],
            "text/plain": [
              "   Unnamed: 0  Unnamed: 0.1  Credit_Card_Exceed_Months Employment_Type  \\\n",
              "0           0             0                          1        employer   \n",
              "1           1             1                          1        employer   \n",
              "2           2             2                          1        employer   \n",
              "3           3             3                          1        employer   \n",
              "4           4             4                          1        employer   \n",
              "5           5             5                          1        employer   \n",
              "6           6             6                          1        employer   \n",
              "7           7             7                          1        employer   \n",
              "8           8             8                          1        employer   \n",
              "9           9             9                          1        employer   \n",
              "\n",
              "   Loan_Amount  Loan_Tenure_Year More_Than_One_Products Credit_Card_types  \\\n",
              "0          NaN              16.0                    yes          platinum   \n",
              "1     605505.0              19.0                     no            normal   \n",
              "2          NaN               NaN                    yes            normal   \n",
              "3     490216.0               NaN                     no            normal   \n",
              "4     292728.0              14.0                    yes            normal   \n",
              "5     198118.0               NaN                     no            normal   \n",
              "6     226681.0               NaN                    yes              gold   \n",
              "7     667042.0              21.0                     no            normal   \n",
              "8     114428.0              24.0                    yes            normal   \n",
              "9          NaN              12.0                     no              gold   \n",
              "\n",
              "   Number_of_Dependents  Years_to_Financial_Freedom  ...  \\\n",
              "0                     2                         5.0  ...   \n",
              "1                     2                         NaN  ...   \n",
              "2                     2                         5.0  ...   \n",
              "3                     2                         5.0  ...   \n",
              "4                     2                         5.0  ...   \n",
              "5                     2                         5.0  ...   \n",
              "6                     2                         5.0  ...   \n",
              "7                     2                         5.0  ...   \n",
              "8                     2                         5.0  ...   \n",
              "9                     2                         5.0  ...   \n",
              "\n",
              "   Number_of_Loan_to_Approve  Property_Type  Years_for_Property_to_Completion  \\\n",
              "0                          1    condominium                              10.0   \n",
              "1                          2            NaN                              10.0   \n",
              "2                          3    condominium                              10.0   \n",
              "3                          1    condominium                              10.0   \n",
              "4                          2    condominium                              10.0   \n",
              "5                          2    condominium                               NaN   \n",
              "6                          1    condominium                              10.0   \n",
              "7                          2    condominium                              10.0   \n",
              "8                          2    condominium                              10.0   \n",
              "9                          1    condominium                              10.0   \n",
              "\n",
              "   State Number_of_Side_Income  Monthly_Salary Total_Sum_of_Loan  \\\n",
              "0  Johor                   2.0         12262.0          853141.0   \n",
              "1  Johor                   2.0          9251.0          882901.0   \n",
              "2  Johor                   NaN          4919.0          540489.0   \n",
              "3  Johor                   NaN          4459.0          536727.0   \n",
              "4  Johor                   3.0          5628.0          774695.0   \n",
              "5  Johor                   2.0         11323.0         1350187.0   \n",
              "6  Johor                   NaN             NaN          615986.0   \n",
              "7  Johor                   NaN             NaN               NaN   \n",
              "8  Johor                   NaN         11983.0          556822.0   \n",
              "9  Johor                   2.0             NaN         1155848.0   \n",
              "\n",
              "   Total_Income_for_Join_Application  Decision  Score  \n",
              "0                            16025.0    Reject      7  \n",
              "1                            17082.0    Accept      9  \n",
              "2                            12613.0    Reject      8  \n",
              "3                            10952.0    Accept      9  \n",
              "4                                NaN    Reject      8  \n",
              "5                            16349.0    Reject      7  \n",
              "6                            11172.0    Accept      7  \n",
              "7                             7543.0    Reject      8  \n",
              "8                            12947.0    Accept      8  \n",
              "9                            18385.0    Reject      7  \n",
              "\n",
              "[10 rows x 23 columns]"
            ]
          },
          "execution_count": 2,
          "metadata": {},
          "output_type": "execute_result"
        }
      ],
      "source": [
        "df.head(10)"
      ]
    },
    {
      "cell_type": "code",
      "execution_count": null,
      "metadata": {
        "id": "yheTXZK7Ganx",
        "outputId": "5d352e8d-f5be-459e-bb4c-afe85d926934"
      },
      "outputs": [
        {
          "name": "stdout",
          "output_type": "stream",
          "text": [
            "Dataset shape: (2350, 23)\n"
          ]
        }
      ],
      "source": [
        "\n",
        "print(\"Dataset shape:\",df.shape)\n"
      ]
    },
    {
      "cell_type": "code",
      "execution_count": null,
      "metadata": {
        "id": "lAVCu7omGan0",
        "outputId": "1a7b4ee0-629f-4e7e-f48a-277133c3570c"
      },
      "outputs": [
        {
          "name": "stdout",
          "output_type": "stream",
          "text": [
            "<class 'pandas.core.frame.DataFrame'>\n",
            "RangeIndex: 2350 entries, 0 to 2349\n",
            "Data columns (total 23 columns):\n",
            "Unnamed: 0                           2350 non-null int64\n",
            "Unnamed: 0.1                         2350 non-null int64\n",
            "Credit_Card_Exceed_Months            2350 non-null int64\n",
            "Employment_Type                      2350 non-null object\n",
            "Loan_Amount                          1818 non-null float64\n",
            "Loan_Tenure_Year                     1898 non-null float64\n",
            "More_Than_One_Products               2350 non-null object\n",
            "Credit_Card_types                    2208 non-null object\n",
            "Number_of_Dependents                 2350 non-null int64\n",
            "Years_to_Financial_Freedom           1703 non-null float64\n",
            "Number_of_Credit_Card_Facility       1709 non-null float64\n",
            "Number_of_Properties                 1525 non-null float64\n",
            "Number_of_Bank_Products              1615 non-null float64\n",
            "Number_of_Loan_to_Approve            2350 non-null int64\n",
            "Property_Type                        2156 non-null object\n",
            "Years_for_Property_to_Completion     1920 non-null float64\n",
            "State                                2350 non-null object\n",
            "Number_of_Side_Income                1619 non-null float64\n",
            "Monthly_Salary                       1817 non-null float64\n",
            "Total_Sum_of_Loan                    2068 non-null float64\n",
            "Total_Income_for_Join_Application    1430 non-null float64\n",
            "Decision                             2350 non-null object\n",
            "Score                                2350 non-null int64\n",
            "dtypes: float64(11), int64(6), object(6)\n",
            "memory usage: 422.4+ KB\n"
          ]
        }
      ],
      "source": [
        "df.info()\n"
      ]
    },
    {
      "cell_type": "markdown",
      "metadata": {
        "id": "qUVTuG8EGan4"
      },
      "source": [
        "#### By looking at this information we can observe that ***:***\n",
        "- There are missing values in Loan_Amount, Loan_Tenure_Year, Years_to_Financial_Freedom, Number_of_Credit_Card_Facility, Number_of_Properties, Number_of_Bank_Products, Years_for_Property_to_Completion, Number_of_Side_Income, Monthly_Salary, Total_Sum_of_Loan and Total_Income_for_Join_Application\n",
        "                                                   \n",
        "#### We can also group the columns by referring to the information above\n",
        "The columns are classified as Categorical, Ordinal and Continuous (numerical).    \n",
        "\n",
        "*   **Categorical** - Employment_Type, More_Than_One_Products, Property_Type, State, Decision                         \n",
        "*   **Ordinal** - Credit_Card_types\n",
        "*   **Continuous** - Credit_Card_Exceed_Months, Loan_Amount, Loan_Tenure_Year, Number_of_Dependent, Years_to_Financial_Freedom, Number_of_Credit_Card_Facility, Number_of_Properties, Number_of_Bank_Products, Number_of_Loan_to_Approve, Years_for_Property_to_Completion, Number_of_Side_Income, Monthly_Salary, Total_Income_for_Join_Application, Score                                                         \n",
        "\n"
      ]
    },
    {
      "cell_type": "code",
      "execution_count": null,
      "metadata": {
        "id": "YEHxRuifGan7",
        "outputId": "7ed6bdae-0c03-4789-d485-7e02f8210f4d"
      },
      "outputs": [
        {
          "name": "stdout",
          "output_type": "stream",
          "text": [
            "Duplicated records in dataset: 0\n"
          ]
        }
      ],
      "source": [
        "print(\"Duplicated records in dataset:\" , df.duplicated().sum())"
      ]
    },
    {
      "cell_type": "markdown",
      "metadata": {
        "id": "eoC8P_UdGan9"
      },
      "source": [
        "- No duplication of data in the dataset"
      ]
    },
    {
      "cell_type": "code",
      "execution_count": null,
      "metadata": {
        "id": "qMTJNeALGaoC",
        "outputId": "b75d3864-6e1f-40f2-8092-aa946b6ea93b"
      },
      "outputs": [
        {
          "name": "stderr",
          "output_type": "stream",
          "text": [
            "2020-09-20 22:15:27.186 INFO    numexpr.utils: NumExpr defaulting to 8 threads.\n"
          ]
        },
        {
          "data": {
            "text/plain": [
              "<matplotlib.axes._subplots.AxesSubplot at 0x1ea91e63348>"
            ]
          },
          "execution_count": 6,
          "metadata": {},
          "output_type": "execute_result"
        },
        {
          "data": {
            "image/png": "[encoded data removed]",
            "text/plain": [
              "<Figure size 432x288 with 2 Axes>"
            ]
          },
          "metadata": {
            "needs_background": "light"
          },
          "output_type": "display_data"
        }
      ],
      "source": [
        "df_na = df.dropna()\n",
        "corr=df_na.corr()\n",
        "sns.heatmap(corr)"
      ]
    },
    {
      "cell_type": "markdown",
      "metadata": {
        "id": "t2G9TfIbGaoE"
      },
      "source": [
        "#### Looking at the heatmap, we can see that there are some correlation between\n",
        "- Years_to_Financial_Freedom and Number_of_Dependents\n",
        "- Number_of_Properties and Number_of_Dependents\n",
        "- Number_of_Bank_Products and Years_to_Financial_Freedom\n",
        "- Number_of_Credit_Card_Facility and Number_of_Properties\n",
        "- Years_for_Property_to_Completion and Credit_Card_Exceed_Months        "
      ]
    },
    {
      "cell_type": "markdown",
      "metadata": {
        "id": "oRUBDoqLGaoF"
      },
      "source": [
        "### Fixing column and rows "
      ]
    },
    {
      "cell_type": "code",
      "execution_count": null,
      "metadata": {
        "scrolled": true,
        "id": "7shKyH-rGaoJ",
        "outputId": "f540fc34-18f9-423b-ba53-a7073c2dfb1c"
      },
      "outputs": [
        {
          "data": {
            "text/html": [
              "<div>\n",
              "<style scoped>\n",
              "    .dataframe tbody tr th:only-of-type {\n",
              "        vertical-align: middle;\n",
              "    }\n",
              "\n",
              "    .dataframe tbody tr th {\n",
              "        vertical-align: top;\n",
              "    }\n",
              "\n",
              "    .dataframe thead th {\n",
              "        text-align: right;\n",
              "    }\n",
              "</style>\n",
              "<table border=\"1\" class=\"dataframe\">\n",
              "  <thead>\n",
              "    <tr style=\"text-align: right;\">\n",
              "      <th></th>\n",
              "      <th>Credit_Card_Exceed_Months</th>\n",
              "      <th>Employment_Type</th>\n",
              "      <th>Loan_Amount</th>\n",
              "      <th>Loan_Tenure_Year</th>\n",
              "      <th>More_Than_One_Products</th>\n",
              "      <th>Credit_Card_types</th>\n",
              "      <th>Number_of_Dependents</th>\n",
              "      <th>Years_to_Financial_Freedom</th>\n",
              "      <th>Number_of_Credit_Card_Facility</th>\n",
              "      <th>Number_of_Properties</th>\n",
              "      <th>...</th>\n",
              "      <th>Number_of_Loan_to_Approve</th>\n",
              "      <th>Property_Type</th>\n",
              "      <th>Years_for_Property_to_Completion</th>\n",
              "      <th>State</th>\n",
              "      <th>Number_of_Side_Income</th>\n",
              "      <th>Monthly_Salary</th>\n",
              "      <th>Total_Sum_of_Loan</th>\n",
              "      <th>Total_Income_for_Join_Application</th>\n",
              "      <th>Decision</th>\n",
              "      <th>Score</th>\n",
              "    </tr>\n",
              "  </thead>\n",
              "  <tbody>\n",
              "    <tr>\n",
              "      <td>0</td>\n",
              "      <td>1</td>\n",
              "      <td>employer</td>\n",
              "      <td>NaN</td>\n",
              "      <td>16.0</td>\n",
              "      <td>yes</td>\n",
              "      <td>platinum</td>\n",
              "      <td>2</td>\n",
              "      <td>5.0</td>\n",
              "      <td>2.0</td>\n",
              "      <td>2.0</td>\n",
              "      <td>...</td>\n",
              "      <td>1</td>\n",
              "      <td>condominium</td>\n",
              "      <td>10.0</td>\n",
              "      <td>Johor</td>\n",
              "      <td>2.0</td>\n",
              "      <td>12262.0</td>\n",
              "      <td>853141.0</td>\n",
              "      <td>16025.0</td>\n",
              "      <td>Reject</td>\n",
              "      <td>7</td>\n",
              "    </tr>\n",
              "    <tr>\n",
              "      <td>1</td>\n",
              "      <td>1</td>\n",
              "      <td>employer</td>\n",
              "      <td>605505.0</td>\n",
              "      <td>19.0</td>\n",
              "      <td>no</td>\n",
              "      <td>normal</td>\n",
              "      <td>2</td>\n",
              "      <td>NaN</td>\n",
              "      <td>2.0</td>\n",
              "      <td>2.0</td>\n",
              "      <td>...</td>\n",
              "      <td>2</td>\n",
              "      <td>NaN</td>\n",
              "      <td>10.0</td>\n",
              "      <td>Johor</td>\n",
              "      <td>2.0</td>\n",
              "      <td>9251.0</td>\n",
              "      <td>882901.0</td>\n",
              "      <td>17082.0</td>\n",
              "      <td>Accept</td>\n",
              "      <td>9</td>\n",
              "    </tr>\n",
              "    <tr>\n",
              "      <td>2</td>\n",
              "      <td>1</td>\n",
              "      <td>employer</td>\n",
              "      <td>NaN</td>\n",
              "      <td>NaN</td>\n",
              "      <td>yes</td>\n",
              "      <td>normal</td>\n",
              "      <td>2</td>\n",
              "      <td>5.0</td>\n",
              "      <td>2.0</td>\n",
              "      <td>2.0</td>\n",
              "      <td>...</td>\n",
              "      <td>3</td>\n",
              "      <td>condominium</td>\n",
              "      <td>10.0</td>\n",
              "      <td>Johor</td>\n",
              "      <td>NaN</td>\n",
              "      <td>4919.0</td>\n",
              "      <td>540489.0</td>\n",
              "      <td>12613.0</td>\n",
              "      <td>Reject</td>\n",
              "      <td>8</td>\n",
              "    </tr>\n",
              "    <tr>\n",
              "      <td>3</td>\n",
              "      <td>1</td>\n",
              "      <td>employer</td>\n",
              "      <td>490216.0</td>\n",
              "      <td>NaN</td>\n",
              "      <td>no</td>\n",
              "      <td>normal</td>\n",
              "      <td>2</td>\n",
              "      <td>5.0</td>\n",
              "      <td>NaN</td>\n",
              "      <td>2.0</td>\n",
              "      <td>...</td>\n",
              "      <td>1</td>\n",
              "      <td>condominium</td>\n",
              "      <td>10.0</td>\n",
              "      <td>Johor</td>\n",
              "      <td>NaN</td>\n",
              "      <td>4459.0</td>\n",
              "      <td>536727.0</td>\n",
              "      <td>10952.0</td>\n",
              "      <td>Accept</td>\n",
              "      <td>9</td>\n",
              "    </tr>\n",
              "    <tr>\n",
              "      <td>4</td>\n",
              "      <td>1</td>\n",
              "      <td>employer</td>\n",
              "      <td>292728.0</td>\n",
              "      <td>14.0</td>\n",
              "      <td>yes</td>\n",
              "      <td>normal</td>\n",
              "      <td>2</td>\n",
              "      <td>5.0</td>\n",
              "      <td>2.0</td>\n",
              "      <td>2.0</td>\n",
              "      <td>...</td>\n",
              "      <td>2</td>\n",
              "      <td>condominium</td>\n",
              "      <td>10.0</td>\n",
              "      <td>Johor</td>\n",
              "      <td>3.0</td>\n",
              "      <td>5628.0</td>\n",
              "      <td>774695.0</td>\n",
              "      <td>NaN</td>\n",
              "      <td>Reject</td>\n",
              "      <td>8</td>\n",
              "    </tr>\n",
              "  </tbody>\n",
              "</table>\n",
              "<p>5 rows × 21 columns</p>\n",
              "</div>"
            ],
            "text/plain": [
              "   Credit_Card_Exceed_Months Employment_Type  Loan_Amount  Loan_Tenure_Year  \\\n",
              "0                          1        employer          NaN              16.0   \n",
              "1                          1        employer     605505.0              19.0   \n",
              "2                          1        employer          NaN               NaN   \n",
              "3                          1        employer     490216.0               NaN   \n",
              "4                          1        employer     292728.0              14.0   \n",
              "\n",
              "  More_Than_One_Products Credit_Card_types  Number_of_Dependents  \\\n",
              "0                    yes          platinum                     2   \n",
              "1                     no            normal                     2   \n",
              "2                    yes            normal                     2   \n",
              "3                     no            normal                     2   \n",
              "4                    yes            normal                     2   \n",
              "\n",
              "   Years_to_Financial_Freedom  Number_of_Credit_Card_Facility  \\\n",
              "0                         5.0                             2.0   \n",
              "1                         NaN                             2.0   \n",
              "2                         5.0                             2.0   \n",
              "3                         5.0                             NaN   \n",
              "4                         5.0                             2.0   \n",
              "\n",
              "   Number_of_Properties  ...  Number_of_Loan_to_Approve  Property_Type  \\\n",
              "0                   2.0  ...                          1    condominium   \n",
              "1                   2.0  ...                          2            NaN   \n",
              "2                   2.0  ...                          3    condominium   \n",
              "3                   2.0  ...                          1    condominium   \n",
              "4                   2.0  ...                          2    condominium   \n",
              "\n",
              "  Years_for_Property_to_Completion  State Number_of_Side_Income  \\\n",
              "0                             10.0  Johor                   2.0   \n",
              "1                             10.0  Johor                   2.0   \n",
              "2                             10.0  Johor                   NaN   \n",
              "3                             10.0  Johor                   NaN   \n",
              "4                             10.0  Johor                   3.0   \n",
              "\n",
              "   Monthly_Salary  Total_Sum_of_Loan  Total_Income_for_Join_Application  \\\n",
              "0         12262.0           853141.0                            16025.0   \n",
              "1          9251.0           882901.0                            17082.0   \n",
              "2          4919.0           540489.0                            12613.0   \n",
              "3          4459.0           536727.0                            10952.0   \n",
              "4          5628.0           774695.0                                NaN   \n",
              "\n",
              "   Decision Score  \n",
              "0    Reject     7  \n",
              "1    Accept     9  \n",
              "2    Reject     8  \n",
              "3    Accept     9  \n",
              "4    Reject     8  \n",
              "\n",
              "[5 rows x 21 columns]"
            ]
          },
          "execution_count": 7,
          "metadata": {},
          "output_type": "execute_result"
        }
      ],
      "source": [
        "df.drop('Unnamed: 0.1', axis=1, inplace=True)\n",
        "df.drop('Unnamed: 0', axis=1, inplace=True)\n",
        "df.head()"
      ]
    },
    {
      "cell_type": "markdown",
      "metadata": {
        "id": "LdF6BBeLGaow"
      },
      "source": [
        "- Unnamed:0.1 and Unnamed:0 has been dropped from the dataframe as it has no predicting power.\n"
      ]
    },
    {
      "cell_type": "code",
      "execution_count": null,
      "metadata": {
        "id": "N3KQ79THGaox",
        "outputId": "38462ed6-2353-40aa-cd98-9de29a9aaa83"
      },
      "outputs": [
        {
          "data": {
            "text/html": [
              "<div>\n",
              "<style scoped>\n",
              "    .dataframe tbody tr th:only-of-type {\n",
              "        vertical-align: middle;\n",
              "    }\n",
              "\n",
              "    .dataframe tbody tr th {\n",
              "        vertical-align: top;\n",
              "    }\n",
              "\n",
              "    .dataframe thead th {\n",
              "        text-align: right;\n",
              "    }\n",
              "</style>\n",
              "<table border=\"1\" class=\"dataframe\">\n",
              "  <thead>\n",
              "    <tr style=\"text-align: right;\">\n",
              "      <th></th>\n",
              "      <th>Credit_Card_Exceed_Months</th>\n",
              "      <th>Employment_Type</th>\n",
              "      <th>Loan_Amount</th>\n",
              "      <th>Loan_Tenure_Year</th>\n",
              "      <th>More_Than_One_Products</th>\n",
              "      <th>Credit_Card_types</th>\n",
              "      <th>Number_of_Dependents</th>\n",
              "      <th>Years_to_Financial_Freedom</th>\n",
              "      <th>Number_of_Credit_Card_Facility</th>\n",
              "      <th>Number_of_Properties</th>\n",
              "      <th>...</th>\n",
              "      <th>Number_of_Loan_to_Approve</th>\n",
              "      <th>Property_Type</th>\n",
              "      <th>Years_for_Property_to_Completion</th>\n",
              "      <th>State</th>\n",
              "      <th>Number_of_Side_Income</th>\n",
              "      <th>Monthly_Salary</th>\n",
              "      <th>Total_Sum_of_Loan</th>\n",
              "      <th>Total_Income_for_Join_Application</th>\n",
              "      <th>Decision</th>\n",
              "      <th>Score</th>\n",
              "    </tr>\n",
              "  </thead>\n",
              "  <tbody>\n",
              "    <tr>\n",
              "      <td>0</td>\n",
              "      <td>1</td>\n",
              "      <td>employer</td>\n",
              "      <td>NaN</td>\n",
              "      <td>16.0</td>\n",
              "      <td>yes</td>\n",
              "      <td>platinum</td>\n",
              "      <td>2</td>\n",
              "      <td>5.0</td>\n",
              "      <td>2.0</td>\n",
              "      <td>2.0</td>\n",
              "      <td>...</td>\n",
              "      <td>1</td>\n",
              "      <td>condominium</td>\n",
              "      <td>10.0</td>\n",
              "      <td>Johor</td>\n",
              "      <td>2.0</td>\n",
              "      <td>12262.0</td>\n",
              "      <td>853141.0</td>\n",
              "      <td>16025.0</td>\n",
              "      <td>Reject</td>\n",
              "      <td>7</td>\n",
              "    </tr>\n",
              "    <tr>\n",
              "      <td>1</td>\n",
              "      <td>1</td>\n",
              "      <td>employer</td>\n",
              "      <td>605505.0</td>\n",
              "      <td>19.0</td>\n",
              "      <td>no</td>\n",
              "      <td>normal</td>\n",
              "      <td>2</td>\n",
              "      <td>NaN</td>\n",
              "      <td>2.0</td>\n",
              "      <td>2.0</td>\n",
              "      <td>...</td>\n",
              "      <td>2</td>\n",
              "      <td>NaN</td>\n",
              "      <td>10.0</td>\n",
              "      <td>Johor</td>\n",
              "      <td>2.0</td>\n",
              "      <td>9251.0</td>\n",
              "      <td>882901.0</td>\n",
              "      <td>17082.0</td>\n",
              "      <td>Accept</td>\n",
              "      <td>9</td>\n",
              "    </tr>\n",
              "    <tr>\n",
              "      <td>2</td>\n",
              "      <td>1</td>\n",
              "      <td>employer</td>\n",
              "      <td>NaN</td>\n",
              "      <td>NaN</td>\n",
              "      <td>yes</td>\n",
              "      <td>normal</td>\n",
              "      <td>2</td>\n",
              "      <td>5.0</td>\n",
              "      <td>2.0</td>\n",
              "      <td>2.0</td>\n",
              "      <td>...</td>\n",
              "      <td>3</td>\n",
              "      <td>condominium</td>\n",
              "      <td>10.0</td>\n",
              "      <td>Johor</td>\n",
              "      <td>NaN</td>\n",
              "      <td>4919.0</td>\n",
              "      <td>540489.0</td>\n",
              "      <td>12613.0</td>\n",
              "      <td>Reject</td>\n",
              "      <td>8</td>\n",
              "    </tr>\n",
              "    <tr>\n",
              "      <td>3</td>\n",
              "      <td>1</td>\n",
              "      <td>employer</td>\n",
              "      <td>490216.0</td>\n",
              "      <td>NaN</td>\n",
              "      <td>no</td>\n",
              "      <td>normal</td>\n",
              "      <td>2</td>\n",
              "      <td>5.0</td>\n",
              "      <td>NaN</td>\n",
              "      <td>2.0</td>\n",
              "      <td>...</td>\n",
              "      <td>1</td>\n",
              "      <td>condominium</td>\n",
              "      <td>10.0</td>\n",
              "      <td>Johor</td>\n",
              "      <td>NaN</td>\n",
              "      <td>4459.0</td>\n",
              "      <td>536727.0</td>\n",
              "      <td>10952.0</td>\n",
              "      <td>Accept</td>\n",
              "      <td>9</td>\n",
              "    </tr>\n",
              "    <tr>\n",
              "      <td>4</td>\n",
              "      <td>1</td>\n",
              "      <td>employer</td>\n",
              "      <td>292728.0</td>\n",
              "      <td>14.0</td>\n",
              "      <td>yes</td>\n",
              "      <td>normal</td>\n",
              "      <td>2</td>\n",
              "      <td>5.0</td>\n",
              "      <td>2.0</td>\n",
              "      <td>2.0</td>\n",
              "      <td>...</td>\n",
              "      <td>2</td>\n",
              "      <td>condominium</td>\n",
              "      <td>10.0</td>\n",
              "      <td>Johor</td>\n",
              "      <td>3.0</td>\n",
              "      <td>5628.0</td>\n",
              "      <td>774695.0</td>\n",
              "      <td>NaN</td>\n",
              "      <td>Reject</td>\n",
              "      <td>8</td>\n",
              "    </tr>\n",
              "  </tbody>\n",
              "</table>\n",
              "<p>5 rows × 21 columns</p>\n",
              "</div>"
            ],
            "text/plain": [
              "   Credit_Card_Exceed_Months Employment_Type  Loan_Amount  Loan_Tenure_Year  \\\n",
              "0                          1        employer          NaN              16.0   \n",
              "1                          1        employer     605505.0              19.0   \n",
              "2                          1        employer          NaN               NaN   \n",
              "3                          1        employer     490216.0               NaN   \n",
              "4                          1        employer     292728.0              14.0   \n",
              "\n",
              "  More_Than_One_Products Credit_Card_types  Number_of_Dependents  \\\n",
              "0                    yes          platinum                     2   \n",
              "1                     no            normal                     2   \n",
              "2                    yes            normal                     2   \n",
              "3                     no            normal                     2   \n",
              "4                    yes            normal                     2   \n",
              "\n",
              "   Years_to_Financial_Freedom  Number_of_Credit_Card_Facility  \\\n",
              "0                         5.0                             2.0   \n",
              "1                         NaN                             2.0   \n",
              "2                         5.0                             2.0   \n",
              "3                         5.0                             NaN   \n",
              "4                         5.0                             2.0   \n",
              "\n",
              "   Number_of_Properties  ...  Number_of_Loan_to_Approve  Property_Type  \\\n",
              "0                   2.0  ...                          1    condominium   \n",
              "1                   2.0  ...                          2            NaN   \n",
              "2                   2.0  ...                          3    condominium   \n",
              "3                   2.0  ...                          1    condominium   \n",
              "4                   2.0  ...                          2    condominium   \n",
              "\n",
              "  Years_for_Property_to_Completion  State Number_of_Side_Income  \\\n",
              "0                             10.0  Johor                   2.0   \n",
              "1                             10.0  Johor                   2.0   \n",
              "2                             10.0  Johor                   NaN   \n",
              "3                             10.0  Johor                   NaN   \n",
              "4                             10.0  Johor                   3.0   \n",
              "\n",
              "   Monthly_Salary  Total_Sum_of_Loan  Total_Income_for_Join_Application  \\\n",
              "0         12262.0           853141.0                            16025.0   \n",
              "1          9251.0           882901.0                            17082.0   \n",
              "2          4919.0           540489.0                            12613.0   \n",
              "3          4459.0           536727.0                            10952.0   \n",
              "4          5628.0           774695.0                                NaN   \n",
              "\n",
              "   Decision Score  \n",
              "0    Reject     7  \n",
              "1    Accept     9  \n",
              "2    Reject     8  \n",
              "3    Accept     9  \n",
              "4    Reject     8  \n",
              "\n",
              "[5 rows x 21 columns]"
            ]
          },
          "execution_count": 8,
          "metadata": {},
          "output_type": "execute_result"
        }
      ],
      "source": [
        "df.head()"
      ]
    },
    {
      "cell_type": "markdown",
      "metadata": {
        "id": "u5HvdE3BGao1"
      },
      "source": [
        "- The Unnamed: 0 and Unnamed: 0.1 column in our dataset is dropped as it is redundant."
      ]
    },
    {
      "cell_type": "markdown",
      "metadata": {
        "id": "WKjTkwOHGao2"
      },
      "source": [
        "## Correcting Spelling Mistakes"
      ]
    },
    {
      "cell_type": "code",
      "execution_count": null,
      "metadata": {
        "id": "c4wZ8rvEGao3",
        "outputId": "202810ee-c081-4a43-ad20-3101edc9c1b1"
      },
      "outputs": [
        {
          "data": {
            "text/plain": [
              "Kuala Lumpur    850\n",
              "Johor           360\n",
              "Selangor        320\n",
              "Penang          200\n",
              "P.Pinang        180\n",
              "Pulau Penang     80\n",
              "Johor B          80\n",
              "K.L              80\n",
              "N.Sembilan       60\n",
              "N.S              40\n",
              "Sabah            20\n",
              "Kedah            20\n",
              "SWK              20\n",
              "Trengganu        20\n",
              "Sarawak          20\n",
              "Name: State, dtype: int64"
            ]
          },
          "execution_count": 9,
          "metadata": {},
          "output_type": "execute_result"
        }
      ],
      "source": [
        "df['State'].value_counts()"
      ]
    },
    {
      "cell_type": "code",
      "execution_count": null,
      "metadata": {
        "id": "x_yIW12IGao6"
      },
      "outputs": [],
      "source": [
        "def clean_state(item):\n",
        "    place = str(item['State'])\n",
        "    \n",
        "    if 'P.Pinang' in place:\n",
        "        return 'Penang'\n",
        "    if 'Pulau Penang' in place:\n",
        "        return 'Penang'\n",
        "    if 'K.L' in place:\n",
        "        return 'Kuala Lumpur'\n",
        "    if 'Trengganu' in place:\n",
        "        return 'Terengganu'\n",
        "    if 'SWK' in place:\n",
        "        return 'Sarawak'\n",
        "    if 'N.S' in place:\n",
        "        return 'N.Sembilan'\n",
        "    if place == 'Johor B':\n",
        "        return 'Johor'\n",
        "    \n",
        "    return place\n",
        "    \n",
        "df['State'] = df.apply(clean_state, axis = 1)\n"
      ]
    },
    {
      "cell_type": "code",
      "execution_count": null,
      "metadata": {
        "id": "i1hG2La0Gao_",
        "outputId": "dff5725c-79e7-4105-ab3a-e9550113ace0"
      },
      "outputs": [
        {
          "data": {
            "text/plain": [
              "Kuala Lumpur    930\n",
              "Penang          460\n",
              "Johor           440\n",
              "Selangor        320\n",
              "N.Sembilan      100\n",
              "Sarawak          40\n",
              "Sabah            20\n",
              "Kedah            20\n",
              "Terengganu       20\n",
              "Name: State, dtype: int64"
            ]
          },
          "execution_count": 11,
          "metadata": {},
          "output_type": "execute_result"
        }
      ],
      "source": [
        "df['State'].value_counts()"
      ]
    },
    {
      "cell_type": "markdown",
      "metadata": {
        "id": "pHjdgzd_GapB"
      },
      "source": [
        "## Handling Missing Values"
      ]
    },
    {
      "cell_type": "code",
      "execution_count": null,
      "metadata": {
        "id": "Dw8lWtIHGapK",
        "outputId": "f81093c0-f099-4934-af0f-b7a9778c384c"
      },
      "outputs": [
        {
          "name": "stdout",
          "output_type": "stream",
          "text": [
            "Credit_Card_Exceed_Months             0.00\n",
            "Employment_Type                       0.00\n",
            "Loan_Amount                          22.64\n",
            "Loan_Tenure_Year                     19.23\n",
            "More_Than_One_Products                0.00\n",
            "Credit_Card_types                     6.04\n",
            "Number_of_Dependents                  0.00\n",
            "Years_to_Financial_Freedom           27.53\n",
            "Number_of_Credit_Card_Facility       27.28\n",
            "Number_of_Properties                 35.11\n",
            "Number_of_Bank_Products              31.28\n",
            "Number_of_Loan_to_Approve             0.00\n",
            "Property_Type                         8.26\n",
            "Years_for_Property_to_Completion     18.30\n",
            "State                                 0.00\n",
            "Number_of_Side_Income                31.11\n",
            "Monthly_Salary                       22.68\n",
            "Total_Sum_of_Loan                    12.00\n",
            "Total_Income_for_Join_Application    39.15\n",
            "Decision                              0.00\n",
            "Score                                 0.00\n",
            "dtype: float64\n"
          ]
        }
      ],
      "source": [
        "col_missing_perc = round(100*(df.isnull().sum()/len(df.index)), 2)\n",
        "print(col_missing_perc)"
      ]
    },
    {
      "cell_type": "code",
      "execution_count": null,
      "metadata": {
        "scrolled": true,
        "id": "6-JpUW-BGapQ",
        "outputId": "7216a87b-f672-48e8-9943-acae779d8840"
      },
      "outputs": [
        {
          "data": {
            "text/html": [
              "<div>\n",
              "<style scoped>\n",
              "    .dataframe tbody tr th:only-of-type {\n",
              "        vertical-align: middle;\n",
              "    }\n",
              "\n",
              "    .dataframe tbody tr th {\n",
              "        vertical-align: top;\n",
              "    }\n",
              "\n",
              "    .dataframe thead th {\n",
              "        text-align: right;\n",
              "    }\n",
              "</style>\n",
              "<table border=\"1\" class=\"dataframe\">\n",
              "  <thead>\n",
              "    <tr style=\"text-align: right;\">\n",
              "      <th></th>\n",
              "      <th>Credit_Card_Exceed_Months</th>\n",
              "      <th>Loan_Amount</th>\n",
              "      <th>Loan_Tenure_Year</th>\n",
              "      <th>Number_of_Dependents</th>\n",
              "      <th>Years_to_Financial_Freedom</th>\n",
              "      <th>Number_of_Credit_Card_Facility</th>\n",
              "      <th>Number_of_Properties</th>\n",
              "      <th>Number_of_Bank_Products</th>\n",
              "      <th>Number_of_Loan_to_Approve</th>\n",
              "      <th>Years_for_Property_to_Completion</th>\n",
              "      <th>Number_of_Side_Income</th>\n",
              "      <th>Monthly_Salary</th>\n",
              "      <th>Total_Sum_of_Loan</th>\n",
              "      <th>Total_Income_for_Join_Application</th>\n",
              "      <th>Score</th>\n",
              "    </tr>\n",
              "  </thead>\n",
              "  <tbody>\n",
              "    <tr>\n",
              "      <td>count</td>\n",
              "      <td>2350.000000</td>\n",
              "      <td>1818.000000</td>\n",
              "      <td>1898.000000</td>\n",
              "      <td>2350.00000</td>\n",
              "      <td>1703.000000</td>\n",
              "      <td>1709.000000</td>\n",
              "      <td>1525.000000</td>\n",
              "      <td>1615.000000</td>\n",
              "      <td>2350.000000</td>\n",
              "      <td>1920.000000</td>\n",
              "      <td>1619.000000</td>\n",
              "      <td>1817.000000</td>\n",
              "      <td>2.068000e+03</td>\n",
              "      <td>1430.000000</td>\n",
              "      <td>2350.000000</td>\n",
              "    </tr>\n",
              "    <tr>\n",
              "      <td>mean</td>\n",
              "      <td>4.723404</td>\n",
              "      <td>443086.929043</td>\n",
              "      <td>17.056375</td>\n",
              "      <td>3.12766</td>\n",
              "      <td>13.372871</td>\n",
              "      <td>3.737273</td>\n",
              "      <td>2.382951</td>\n",
              "      <td>2.104025</td>\n",
              "      <td>1.991915</td>\n",
              "      <td>10.658333</td>\n",
              "      <td>2.020383</td>\n",
              "      <td>8001.264722</td>\n",
              "      <td>9.456851e+05</td>\n",
              "      <td>13698.553147</td>\n",
              "      <td>7.496596</td>\n",
              "    </tr>\n",
              "    <tr>\n",
              "      <td>std</td>\n",
              "      <td>2.101127</td>\n",
              "      <td>202364.762770</td>\n",
              "      <td>4.340597</td>\n",
              "      <td>1.40874</td>\n",
              "      <td>4.082739</td>\n",
              "      <td>1.375819</td>\n",
              "      <td>0.813420</td>\n",
              "      <td>1.537738</td>\n",
              "      <td>0.816717</td>\n",
              "      <td>1.072628</td>\n",
              "      <td>0.820145</td>\n",
              "      <td>2605.084675</td>\n",
              "      <td>2.932010e+05</td>\n",
              "      <td>3630.290425</td>\n",
              "      <td>1.112542</td>\n",
              "    </tr>\n",
              "    <tr>\n",
              "      <td>min</td>\n",
              "      <td>1.000000</td>\n",
              "      <td>100194.000000</td>\n",
              "      <td>10.000000</td>\n",
              "      <td>2.00000</td>\n",
              "      <td>5.000000</td>\n",
              "      <td>2.000000</td>\n",
              "      <td>2.000000</td>\n",
              "      <td>1.000000</td>\n",
              "      <td>1.000000</td>\n",
              "      <td>10.000000</td>\n",
              "      <td>1.000000</td>\n",
              "      <td>3583.000000</td>\n",
              "      <td>4.202390e+05</td>\n",
              "      <td>7523.000000</td>\n",
              "      <td>6.000000</td>\n",
              "    </tr>\n",
              "    <tr>\n",
              "      <td>25%</td>\n",
              "      <td>3.000000</td>\n",
              "      <td>265953.500000</td>\n",
              "      <td>13.000000</td>\n",
              "      <td>2.00000</td>\n",
              "      <td>10.000000</td>\n",
              "      <td>2.000000</td>\n",
              "      <td>2.000000</td>\n",
              "      <td>1.000000</td>\n",
              "      <td>1.000000</td>\n",
              "      <td>10.000000</td>\n",
              "      <td>1.000000</td>\n",
              "      <td>5723.000000</td>\n",
              "      <td>6.993572e+05</td>\n",
              "      <td>10655.000000</td>\n",
              "      <td>6.000000</td>\n",
              "    </tr>\n",
              "    <tr>\n",
              "      <td>50%</td>\n",
              "      <td>5.000000</td>\n",
              "      <td>444235.000000</td>\n",
              "      <td>17.000000</td>\n",
              "      <td>2.00000</td>\n",
              "      <td>14.000000</td>\n",
              "      <td>4.000000</td>\n",
              "      <td>2.000000</td>\n",
              "      <td>1.000000</td>\n",
              "      <td>2.000000</td>\n",
              "      <td>10.000000</td>\n",
              "      <td>2.000000</td>\n",
              "      <td>7992.000000</td>\n",
              "      <td>9.451400e+05</td>\n",
              "      <td>13607.000000</td>\n",
              "      <td>8.000000</td>\n",
              "    </tr>\n",
              "    <tr>\n",
              "      <td>75%</td>\n",
              "      <td>7.000000</td>\n",
              "      <td>613354.750000</td>\n",
              "      <td>21.000000</td>\n",
              "      <td>4.00000</td>\n",
              "      <td>17.000000</td>\n",
              "      <td>4.000000</td>\n",
              "      <td>2.000000</td>\n",
              "      <td>3.000000</td>\n",
              "      <td>3.000000</td>\n",
              "      <td>11.000000</td>\n",
              "      <td>3.000000</td>\n",
              "      <td>10307.000000</td>\n",
              "      <td>1.201313e+06</td>\n",
              "      <td>16821.750000</td>\n",
              "      <td>8.000000</td>\n",
              "    </tr>\n",
              "    <tr>\n",
              "      <td>max</td>\n",
              "      <td>7.000000</td>\n",
              "      <td>799628.000000</td>\n",
              "      <td>24.000000</td>\n",
              "      <td>6.00000</td>\n",
              "      <td>19.000000</td>\n",
              "      <td>6.000000</td>\n",
              "      <td>5.000000</td>\n",
              "      <td>5.000000</td>\n",
              "      <td>3.000000</td>\n",
              "      <td>13.000000</td>\n",
              "      <td>3.000000</td>\n",
              "      <td>12562.000000</td>\n",
              "      <td>1.449960e+06</td>\n",
              "      <td>19995.000000</td>\n",
              "      <td>9.000000</td>\n",
              "    </tr>\n",
              "  </tbody>\n",
              "</table>\n",
              "</div>"
            ],
            "text/plain": [
              "       Credit_Card_Exceed_Months    Loan_Amount  Loan_Tenure_Year  \\\n",
              "count                2350.000000    1818.000000       1898.000000   \n",
              "mean                    4.723404  443086.929043         17.056375   \n",
              "std                     2.101127  202364.762770          4.340597   \n",
              "min                     1.000000  100194.000000         10.000000   \n",
              "25%                     3.000000  265953.500000         13.000000   \n",
              "50%                     5.000000  444235.000000         17.000000   \n",
              "75%                     7.000000  613354.750000         21.000000   \n",
              "max                     7.000000  799628.000000         24.000000   \n",
              "\n",
              "       Number_of_Dependents  Years_to_Financial_Freedom  \\\n",
              "count            2350.00000                 1703.000000   \n",
              "mean                3.12766                   13.372871   \n",
              "std                 1.40874                    4.082739   \n",
              "min                 2.00000                    5.000000   \n",
              "25%                 2.00000                   10.000000   \n",
              "50%                 2.00000                   14.000000   \n",
              "75%                 4.00000                   17.000000   \n",
              "max                 6.00000                   19.000000   \n",
              "\n",
              "       Number_of_Credit_Card_Facility  Number_of_Properties  \\\n",
              "count                     1709.000000           1525.000000   \n",
              "mean                         3.737273              2.382951   \n",
              "std                          1.375819              0.813420   \n",
              "min                          2.000000              2.000000   \n",
              "25%                          2.000000              2.000000   \n",
              "50%                          4.000000              2.000000   \n",
              "75%                          4.000000              2.000000   \n",
              "max                          6.000000              5.000000   \n",
              "\n",
              "       Number_of_Bank_Products  Number_of_Loan_to_Approve  \\\n",
              "count              1615.000000                2350.000000   \n",
              "mean                  2.104025                   1.991915   \n",
              "std                   1.537738                   0.816717   \n",
              "min                   1.000000                   1.000000   \n",
              "25%                   1.000000                   1.000000   \n",
              "50%                   1.000000                   2.000000   \n",
              "75%                   3.000000                   3.000000   \n",
              "max                   5.000000                   3.000000   \n",
              "\n",
              "       Years_for_Property_to_Completion  Number_of_Side_Income  \\\n",
              "count                       1920.000000            1619.000000   \n",
              "mean                          10.658333               2.020383   \n",
              "std                            1.072628               0.820145   \n",
              "min                           10.000000               1.000000   \n",
              "25%                           10.000000               1.000000   \n",
              "50%                           10.000000               2.000000   \n",
              "75%                           11.000000               3.000000   \n",
              "max                           13.000000               3.000000   \n",
              "\n",
              "       Monthly_Salary  Total_Sum_of_Loan  Total_Income_for_Join_Application  \\\n",
              "count     1817.000000       2.068000e+03                        1430.000000   \n",
              "mean      8001.264722       9.456851e+05                       13698.553147   \n",
              "std       2605.084675       2.932010e+05                        3630.290425   \n",
              "min       3583.000000       4.202390e+05                        7523.000000   \n",
              "25%       5723.000000       6.993572e+05                       10655.000000   \n",
              "50%       7992.000000       9.451400e+05                       13607.000000   \n",
              "75%      10307.000000       1.201313e+06                       16821.750000   \n",
              "max      12562.000000       1.449960e+06                       19995.000000   \n",
              "\n",
              "             Score  \n",
              "count  2350.000000  \n",
              "mean      7.496596  \n",
              "std       1.112542  \n",
              "min       6.000000  \n",
              "25%       6.000000  \n",
              "50%       8.000000  \n",
              "75%       8.000000  \n",
              "max       9.000000  "
            ]
          },
          "execution_count": 13,
          "metadata": {},
          "output_type": "execute_result"
        }
      ],
      "source": [
        "df.describe()"
      ]
    },
    {
      "cell_type": "markdown",
      "metadata": {
        "id": "tiRAeAoiGapR"
      },
      "source": [
        "### Missing Values in Numerical Data"
      ]
    },
    {
      "cell_type": "code",
      "execution_count": null,
      "metadata": {
        "id": "iMNkt2oZGapT"
      },
      "outputs": [],
      "source": [
        "df.loc[np.isnan(df['Loan_Amount']), ['Loan_Amount']] = df['Loan_Amount'].mean()\n",
        "df['Loan_Amount']= df['Loan_Amount']\n",
        "\n",
        "df.loc[np.isnan(df['Monthly_Salary']), ['Monthly_Salary']] = df['Monthly_Salary'].mean()\n",
        "df['Monthly_Salary']= df['Monthly_Salary']\n",
        "\n",
        "df.loc[np.isnan(df['Total_Sum_of_Loan']), ['Total_Sum_of_Loan']] = df['Total_Sum_of_Loan'].mean()\n",
        "df['Total_Sum_of_Loan']= df['Total_Sum_of_Loan']\n",
        "\n",
        "\n",
        "df.loc[np.isnan(df['Loan_Tenure_Year']), ['Loan_Tenure_Year']] = df['Loan_Tenure_Year'].mean()\n",
        "df['Loan_Tenure_Year']= (df['Loan_Tenure_Year'])\n",
        "\n",
        "df.loc[np.isnan(df['Years_to_Financial_Freedom']), ['Years_to_Financial_Freedom']] = df['Years_to_Financial_Freedom'].mean()\n",
        "df['Years_to_Financial_Freedom']= (df['Years_to_Financial_Freedom'])\n",
        "\n",
        "df.loc[np.isnan(df['Number_of_Credit_Card_Facility']), ['Number_of_Credit_Card_Facility']] = df['Number_of_Credit_Card_Facility'].mean()\n",
        "df['Number_of_Credit_Card_Facility']= (df['Number_of_Credit_Card_Facility'])\n",
        "\n",
        "df.loc[np.isnan(df['Number_of_Properties']), ['Number_of_Properties']] = df['Number_of_Properties'].mean()\n",
        "df['Number_of_Properties']= (df['Number_of_Properties'])\n",
        "\n",
        "df.loc[np.isnan(df['Years_for_Property_to_Completion']), ['Years_for_Property_to_Completion']] = df['Years_for_Property_to_Completion'].mean()\n",
        "df['Years_for_Property_to_Completion']= (df['Years_for_Property_to_Completion'])\n",
        "\n",
        "df.loc[np.isnan(df['Number_of_Bank_Products']), ['Number_of_Bank_Products']] = df['Number_of_Bank_Products'].mean()\n",
        "df['Number_of_Bank_Products']= (df['Number_of_Bank_Products'])\n",
        "\n",
        "df.loc[np.isnan(df['Number_of_Side_Income']), ['Number_of_Side_Income']] = df['Number_of_Side_Income'].mean()\n",
        "df['Number_of_Side_Income']= (df['Number_of_Side_Income'])\n",
        "\n",
        "df.loc[np.isnan(df['Total_Income_for_Join_Application']), ['Total_Income_for_Join_Application']] = df['Total_Income_for_Join_Application'].mean()\n",
        "df['Total_Income_for_Join_Application']= df['Total_Income_for_Join_Application']\n",
        "\n",
        "\n",
        "df.loc[np.isnan(df['Loan_Tenure_Year']),['Loan_Tenure_Year']]=(df['Loan_Tenure_Year'].mean())\n",
        "\n"
      ]
    },
    {
      "cell_type": "markdown",
      "metadata": {
        "id": "_HrB_PODGapZ"
      },
      "source": [
        "- Missing values of the columns above underwent data imputation using mean, as the median and mean is very similar in value based on the above table.\n",
        "\n"
      ]
    },
    {
      "cell_type": "markdown",
      "metadata": {
        "id": "fZAPQu0jGapa"
      },
      "source": [
        "### Missing Values in Categorical Data"
      ]
    },
    {
      "cell_type": "code",
      "execution_count": null,
      "metadata": {
        "scrolled": true,
        "id": "um0b7x_CGapb",
        "outputId": "f7e9144a-1665-4ae0-f7f2-1c8eb1d183fd"
      },
      "outputs": [
        {
          "data": {
            "text/plain": [
              "normal      0.572766\n",
              "gold        0.277447\n",
              "platinum    0.089362\n",
              "NaN         0.060426\n",
              "Name: Credit_Card_types, dtype: float64"
            ]
          },
          "execution_count": 15,
          "metadata": {},
          "output_type": "execute_result"
        }
      ],
      "source": [
        "df['Credit_Card_types'].value_counts(normalize=True, dropna=False)"
      ]
    },
    {
      "cell_type": "code",
      "execution_count": null,
      "metadata": {
        "id": "D9Oa3g5mGapd",
        "outputId": "f50f6601-4b05-4005-a8ce-1ddbf24d3a97"
      },
      "outputs": [
        {
          "data": {
            "text/plain": [
              "condominium    0.344681\n",
              "terrace        0.222128\n",
              "flat           0.177021\n",
              "bungalow       0.173617\n",
              "NaN            0.082553\n",
              "Name: Property_Type, dtype: float64"
            ]
          },
          "execution_count": 16,
          "metadata": {},
          "output_type": "execute_result"
        }
      ],
      "source": [
        "df['Property_Type'].value_counts(normalize=True, dropna=False)"
      ]
    },
    {
      "cell_type": "code",
      "execution_count": null,
      "metadata": {
        "id": "kOhG97HJGape"
      },
      "outputs": [],
      "source": [
        "df['Property_Type']=np.where(df['Property_Type'].isnull(),df['Property_Type'].mode(),df['Property_Type']) \n",
        "df['Credit_Card_types']=np.where(df['Credit_Card_types'].isnull(),df['Credit_Card_types'].mode(),df['Credit_Card_types']) \n"
      ]
    },
    {
      "cell_type": "markdown",
      "metadata": {
        "id": "ytzlZfjlGapf"
      },
      "source": [
        "- 57% of Credit Card Types are normal\n",
        "- 34% of Property Types are condominium\n",
        "- Mode has been used to impute the missing data of Property_Type column and Credit_Card_types column as mode represents the most frequent category."
      ]
    },
    {
      "cell_type": "code",
      "execution_count": null,
      "metadata": {
        "id": "YP2BSO18Gaph",
        "outputId": "2e2948eb-ccaa-4041-e8d7-4da5abbd77dc"
      },
      "outputs": [
        {
          "data": {
            "text/plain": [
              "normal      0.633191\n",
              "gold        0.277447\n",
              "platinum    0.089362\n",
              "Name: Credit_Card_types, dtype: float64"
            ]
          },
          "execution_count": 18,
          "metadata": {},
          "output_type": "execute_result"
        }
      ],
      "source": [
        "df['Credit_Card_types'].value_counts(normalize=True, dropna=False)"
      ]
    },
    {
      "cell_type": "code",
      "execution_count": null,
      "metadata": {
        "id": "nuydYO4TGaqX",
        "outputId": "97ea9bcc-91e4-447a-fc0f-7cd1be3d8790"
      },
      "outputs": [
        {
          "data": {
            "text/plain": [
              "condominium    0.427234\n",
              "terrace        0.222128\n",
              "flat           0.177021\n",
              "bungalow       0.173617\n",
              "Name: Property_Type, dtype: float64"
            ]
          },
          "execution_count": 19,
          "metadata": {},
          "output_type": "execute_result"
        }
      ],
      "source": [
        "df['Property_Type'].value_counts(normalize=True, dropna=False)"
      ]
    },
    {
      "cell_type": "markdown",
      "metadata": {
        "id": "37zZfWdYGaqY"
      },
      "source": [
        "## Visualizing the Data"
      ]
    },
    {
      "cell_type": "markdown",
      "metadata": {
        "id": "NmlB0AZSGaqZ"
      },
      "source": [
        "### Visualizing the Credit Score Data against other Features"
      ]
    },
    {
      "cell_type": "code",
      "execution_count": null,
      "metadata": {
        "scrolled": true,
        "id": "rOcTcdajGaqb",
        "outputId": "e7d57556-d3d9-409a-aa45-a1754337a0a0"
      },
      "outputs": [
        {
          "name": "stdout",
          "output_type": "stream",
          "text": [
            "Distribution of Applicants\n",
            "9    0.242979\n",
            "7    0.245106\n",
            "6    0.250638\n",
            "8    0.261277\n",
            "Name: Score, dtype: float64\n",
            "Probability of Loan by Credit Score\n",
            "Decision    Accept    Reject\n",
            "Score                       \n",
            "6         0.748727  0.251273\n",
            "7         0.755208  0.244792\n",
            "8         0.758958  0.241042\n",
            "9         0.747811  0.252189\n",
            "Probability of Credit Score by Loan\n",
            "Score            6         7         8         9\n",
            "Decision                                        \n",
            "Accept    0.249293  0.245902  0.263426  0.241379\n",
            "Reject    0.254733  0.242685  0.254733  0.247849\n"
          ]
        }
      ],
      "source": [
        "# Number of Applicants by Credit Score\n",
        "temp1 = df['Score'].value_counts(ascending = True, normalize = True)      \n",
        "\n",
        "# Probability of receiving a Loan by credit history\n",
        "temp2 = pd.crosstab(df['Score'], df['Decision'],normalize = 'index')\n",
        "\n",
        "# Probability of credit_history by Loan_Status\n",
        "temp2b = pd.crosstab(df['Decision'],df['Score'],normalize = 'index')\n",
        "\n",
        "print ('Distribution of Applicants')\n",
        "print (temp1)\n",
        "\n",
        "print ('Probability of Loan by Credit Score')\n",
        "print (temp2)\n",
        "\n",
        "print ('Probability of Credit Score by Loan')\n",
        "print (temp2b)"
      ]
    },
    {
      "cell_type": "markdown",
      "metadata": {
        "id": "cthvlihUGaqc"
      },
      "source": [
        "#### Visualising the above tables"
      ]
    },
    {
      "cell_type": "code",
      "execution_count": null,
      "metadata": {
        "id": "fKBfqH96Gaqc",
        "outputId": "da4da8ab-8e8d-4a69-e655-1b31e2d3927b"
      },
      "outputs": [
        {
          "data": {
            "image/png": "[encoded data removed]",
            "text/plain": [
              "<Figure size 864x576 with 3 Axes>"
            ]
          },
          "metadata": {},
          "output_type": "display_data"
        }
      ],
      "source": [
        " #PLOT 1: Number of Applicants grouped by Credit Score\n",
        "with sns.axes_style('darkgrid'):    \n",
        "    fig = plt.figure(figsize = (12,8))  \n",
        "    ax1 = fig.add_subplot(221)         \n",
        "    temp1.plot(kind = 'bar', ax = ax1)\n",
        "    ax1.set_xlabel('Credit Score')      \n",
        "    ax1.set_ylabel('Number of Applicants')\n",
        "    ax1.set_title('Applicants by Credit Score')\n",
        "\n",
        "#PLOT 2: Probability of receiving Loan by Credit Score\n",
        "with sns.axes_style('darkgrid'):\n",
        "    ax2 = fig.add_subplot(222)  \n",
        "    temp2.plot(kind = \"bar\", stacked = True, ax = ax2) \n",
        "    ax2.set_xlabel('Credit Score') \n",
        "    ax2.set_ylabel('Probability of Receiving Loan')\n",
        "    ax2.set_title('Probability of Loan Approval by Credit Score')\n",
        "    \n",
        "#PlOT 3: Probability of Credit Score by Loan Status\n",
        "with sns.axes_style('darkgrid'):\n",
        "    ax3 = fig.add_subplot(223)  \n",
        "    temp2b.plot(kind = \"bar\", stacked = True, ax = ax3) \n",
        "    ax3.set_xlabel('Loan Approval Status') \n",
        "    ax3.set_ylabel('Probability of Receiving Loan')\n",
        "    ax3.set_title('Probability of Credit Score by Loan Decision')\n",
        "\n",
        "plt.tight_layout()"
      ]
    },
    {
      "cell_type": "markdown",
      "metadata": {
        "id": "M4UbNb6jGaqe"
      },
      "source": [
        "### Visualizing Loan Decision data against other Features"
      ]
    },
    {
      "cell_type": "code",
      "execution_count": null,
      "metadata": {
        "id": "ayenLx5XGaqf",
        "outputId": "05d1460a-43d5-4090-975c-2fe1b7ac95c3"
      },
      "outputs": [
        {
          "name": "stdout",
          "output_type": "stream",
          "text": [
            "Decision           Accept    Reject\n",
            "Employment_Type                    \n",
            "Fresh_Graduate   0.741818  0.258182\n",
            "Self_Employed    0.730000  0.270000\n",
            "employee         0.761667  0.238333\n",
            "employer         0.735000  0.265000\n",
            "government       0.797500  0.202500\n"
          ]
        },
        {
          "data": {
            "text/plain": [
              "<matplotlib.axes._subplots.AxesSubplot at 0x1ea920e0688>"
            ]
          },
          "execution_count": 22,
          "metadata": {},
          "output_type": "execute_result"
        },
        {
          "data": {
            "image/png": "[encoded data removed]",
            "text/plain": [
              "<Figure size 432x288 with 1 Axes>"
            ]
          },
          "metadata": {
            "needs_background": "light"
          },
          "output_type": "display_data"
        }
      ],
      "source": [
        "print\n",
        "temp3 = pd.crosstab(index = df['Employment_Type'],columns = df['Decision'],normalize = 'index')\n",
        "print (temp3)\n",
        "\n",
        "sns.countplot(x=\"Employment_Type\", hue='Decision', data=df)\n"
      ]
    },
    {
      "cell_type": "code",
      "execution_count": null,
      "metadata": {
        "id": "DcYNfAtbGaqg",
        "outputId": "e7d2a1dd-4820-4d22-df95-c86db8c3f608"
      },
      "outputs": [
        {
          "name": "stdout",
          "output_type": "stream",
          "text": [
            "Decision         Accept    Reject\n",
            "Property_Type                    \n",
            "bungalow       0.754902  0.245098\n",
            "condominium    0.753984  0.246016\n",
            "flat           0.718750  0.281250\n",
            "terrace        0.775862  0.224138\n",
            "Decision             Accept    Reject\n",
            "Credit_Card_types                    \n",
            "gold               0.740798  0.259202\n",
            "normal             0.749328  0.250672\n",
            "platinum           0.814286  0.185714\n"
          ]
        },
        {
          "data": {
            "image/png": "[encoded data removed]",
            "text/plain": [
              "<Figure size 432x288 with 1 Axes>"
            ]
          },
          "metadata": {
            "needs_background": "light"
          },
          "output_type": "display_data"
        },
        {
          "data": {
            "image/png": "[encoded data removed]",
            "text/plain": [
              "<Figure size 432x288 with 1 Axes>"
            ]
          },
          "metadata": {
            "needs_background": "light"
          },
          "output_type": "display_data"
        }
      ],
      "source": [
        "\n",
        "print\n",
        "temp4 = pd.crosstab(index = df['Property_Type'],columns = df['Decision'],normalize = 'index')\n",
        "print (temp4)\n",
        "\n",
        "\n",
        "print\n",
        "temp4b = pd.crosstab(index = df['Credit_Card_types'],columns = df['Decision'],normalize = 'index')\n",
        "print (temp4b)\n",
        "\n",
        "\n",
        "# Probability of Loan Approval and Rejection by Property Type\n",
        "temp4.plot(kind = 'bar', stacked = True)\n",
        "plt.show()\n",
        "\n",
        "# Loan Approval and Rejection by Credit Card type\n",
        "\n",
        "temp4b.plot(kind = 'bar', stacked = True)\n",
        "plt.show()"
      ]
    },
    {
      "cell_type": "markdown",
      "metadata": {
        "id": "Gp5cDD8dGaqh"
      },
      "source": [
        "### Visualizing Income data against other Features"
      ]
    },
    {
      "cell_type": "code",
      "execution_count": null,
      "metadata": {
        "id": "X2zS5H4lGaqi",
        "outputId": "cd926727-ed69-47ae-e4f3-389adce26dde"
      },
      "outputs": [
        {
          "data": {
            "image/png": "[encoded data removed]",
            "text/plain": [
              "<Figure size 432x288 with 1 Axes>"
            ]
          },
          "metadata": {
            "needs_background": "light"
          },
          "output_type": "display_data"
        }
      ],
      "source": [
        "monthly_salary_quantile = list(df['Monthly_Salary'].quantile([0.25,0.5,0.75]))\n",
        "\n",
        "def salary_group(x):\n",
        "    if x>=monthly_salary_quantile[2]:\n",
        "        return \"High\"\n",
        "    elif x>=monthly_salary_quantile[1]:\n",
        "        return \"Medium\"\n",
        "    else:\n",
        "        return \"Low\"\n",
        "df['Income_Range'] = df['Monthly_Salary'].apply(lambda x: salary_group(x))\n",
        "\n",
        "sns.barplot(x='Income_Range',y=\"Loan_Amount\", hue='Decision',data=df)\n",
        "df2=df.copy()\n"
      ]
    },
    {
      "cell_type": "code",
      "execution_count": null,
      "metadata": {
        "id": "bcmveP8JGaqj",
        "outputId": "1d585515-2da8-4a7d-b44a-413081c96a07"
      },
      "outputs": [
        {
          "data": {
            "text/plain": [
              "<matplotlib.axes._subplots.AxesSubplot at 0x1ea92345188>"
            ]
          },
          "execution_count": 25,
          "metadata": {},
          "output_type": "execute_result"
        },
        {
          "data": {
            "image/png": "[encoded data removed]",
            "text/plain": [
              "<Figure size 432x288 with 1 Axes>"
            ]
          },
          "metadata": {
            "needs_background": "light"
          },
          "output_type": "display_data"
        }
      ],
      "source": [
        "sns.barplot(x='Income_Range',y=\"Total_Sum_of_Loan\", hue='Decision',data=df)\n"
      ]
    },
    {
      "cell_type": "markdown",
      "metadata": {
        "id": "3t03xU8aGaql"
      },
      "source": [
        "## Association Rule Mining"
      ]
    },
    {
      "cell_type": "code",
      "execution_count": null,
      "metadata": {
        "id": "F_D4H1M4Gaqn"
      },
      "outputs": [],
      "source": [
        "import numpy as np\n",
        "import matplotlib.pyplot as plt\n",
        "import pandas as pd\n",
        "from apyori import apriori\n"
      ]
    },
    {
      "cell_type": "code",
      "execution_count": null,
      "metadata": {
        "scrolled": false,
        "id": "hka-s4lvGaqo",
        "outputId": "78a5abb2-7a7d-4a73-b1d7-1ba1ae7b1fe5"
      },
      "outputs": [
        {
          "data": {
            "text/html": [
              "<div>\n",
              "<style scoped>\n",
              "    .dataframe tbody tr th:only-of-type {\n",
              "        vertical-align: middle;\n",
              "    }\n",
              "\n",
              "    .dataframe tbody tr th {\n",
              "        vertical-align: top;\n",
              "    }\n",
              "\n",
              "    .dataframe thead th {\n",
              "        text-align: right;\n",
              "    }\n",
              "</style>\n",
              "<table border=\"1\" class=\"dataframe\">\n",
              "  <thead>\n",
              "    <tr style=\"text-align: right;\">\n",
              "      <th></th>\n",
              "      <th>Employment_Type</th>\n",
              "      <th>Credit_Card_types</th>\n",
              "      <th>Income_Range</th>\n",
              "      <th>More_Than_One_Products</th>\n",
              "    </tr>\n",
              "  </thead>\n",
              "  <tbody>\n",
              "    <tr>\n",
              "      <td>0</td>\n",
              "      <td>employer</td>\n",
              "      <td>platinum</td>\n",
              "      <td>High</td>\n",
              "      <td>yes</td>\n",
              "    </tr>\n",
              "    <tr>\n",
              "      <td>1</td>\n",
              "      <td>employer</td>\n",
              "      <td>normal</td>\n",
              "      <td>Medium</td>\n",
              "      <td>no</td>\n",
              "    </tr>\n",
              "    <tr>\n",
              "      <td>2</td>\n",
              "      <td>employer</td>\n",
              "      <td>normal</td>\n",
              "      <td>Low</td>\n",
              "      <td>yes</td>\n",
              "    </tr>\n",
              "    <tr>\n",
              "      <td>3</td>\n",
              "      <td>employer</td>\n",
              "      <td>normal</td>\n",
              "      <td>Low</td>\n",
              "      <td>no</td>\n",
              "    </tr>\n",
              "    <tr>\n",
              "      <td>4</td>\n",
              "      <td>employer</td>\n",
              "      <td>normal</td>\n",
              "      <td>Low</td>\n",
              "      <td>yes</td>\n",
              "    </tr>\n",
              "  </tbody>\n",
              "</table>\n",
              "</div>"
            ],
            "text/plain": [
              "  Employment_Type Credit_Card_types Income_Range More_Than_One_Products\n",
              "0        employer          platinum         High                    yes\n",
              "1        employer            normal       Medium                     no\n",
              "2        employer            normal          Low                    yes\n",
              "3        employer            normal          Low                     no\n",
              "4        employer            normal          Low                    yes"
            ]
          },
          "execution_count": 27,
          "metadata": {},
          "output_type": "execute_result"
        }
      ],
      "source": [
        "bank_data = df[['Employment_Type', 'Credit_Card_types', 'Income_Range','More_Than_One_Products']].copy()\n",
        "bank_data.head()"
      ]
    },
    {
      "cell_type": "code",
      "execution_count": null,
      "metadata": {
        "id": "xmiIRj65Gaqq",
        "outputId": "08996c91-b46b-403d-8802-e6c881219d54"
      },
      "outputs": [
        {
          "data": {
            "text/html": [
              "<div>\n",
              "<style scoped>\n",
              "    .dataframe tbody tr th:only-of-type {\n",
              "        vertical-align: middle;\n",
              "    }\n",
              "\n",
              "    .dataframe tbody tr th {\n",
              "        vertical-align: top;\n",
              "    }\n",
              "\n",
              "    .dataframe thead th {\n",
              "        text-align: right;\n",
              "    }\n",
              "</style>\n",
              "<table border=\"1\" class=\"dataframe\">\n",
              "  <thead>\n",
              "    <tr style=\"text-align: right;\">\n",
              "      <th></th>\n",
              "      <th>employer</th>\n",
              "      <th>platinum</th>\n",
              "      <th>High</th>\n",
              "      <th>yes</th>\n",
              "    </tr>\n",
              "  </thead>\n",
              "  <tbody>\n",
              "    <tr>\n",
              "      <td>1</td>\n",
              "      <td>employer</td>\n",
              "      <td>normal</td>\n",
              "      <td>Medium</td>\n",
              "      <td>no</td>\n",
              "    </tr>\n",
              "    <tr>\n",
              "      <td>2</td>\n",
              "      <td>employer</td>\n",
              "      <td>normal</td>\n",
              "      <td>Low</td>\n",
              "      <td>yes</td>\n",
              "    </tr>\n",
              "    <tr>\n",
              "      <td>3</td>\n",
              "      <td>employer</td>\n",
              "      <td>normal</td>\n",
              "      <td>Low</td>\n",
              "      <td>no</td>\n",
              "    </tr>\n",
              "    <tr>\n",
              "      <td>4</td>\n",
              "      <td>employer</td>\n",
              "      <td>normal</td>\n",
              "      <td>Low</td>\n",
              "      <td>yes</td>\n",
              "    </tr>\n",
              "    <tr>\n",
              "      <td>5</td>\n",
              "      <td>employer</td>\n",
              "      <td>normal</td>\n",
              "      <td>High</td>\n",
              "      <td>no</td>\n",
              "    </tr>\n",
              "    <tr>\n",
              "      <td>...</td>\n",
              "      <td>...</td>\n",
              "      <td>...</td>\n",
              "      <td>...</td>\n",
              "      <td>...</td>\n",
              "    </tr>\n",
              "    <tr>\n",
              "      <td>2345</td>\n",
              "      <td>Fresh_Graduate</td>\n",
              "      <td>platinum</td>\n",
              "      <td>High</td>\n",
              "      <td>no</td>\n",
              "    </tr>\n",
              "    <tr>\n",
              "      <td>2346</td>\n",
              "      <td>Fresh_Graduate</td>\n",
              "      <td>normal</td>\n",
              "      <td>High</td>\n",
              "      <td>yes</td>\n",
              "    </tr>\n",
              "    <tr>\n",
              "      <td>2347</td>\n",
              "      <td>Fresh_Graduate</td>\n",
              "      <td>normal</td>\n",
              "      <td>Medium</td>\n",
              "      <td>no</td>\n",
              "    </tr>\n",
              "    <tr>\n",
              "      <td>2348</td>\n",
              "      <td>Fresh_Graduate</td>\n",
              "      <td>normal</td>\n",
              "      <td>Low</td>\n",
              "      <td>yes</td>\n",
              "    </tr>\n",
              "    <tr>\n",
              "      <td>2349</td>\n",
              "      <td>Fresh_Graduate</td>\n",
              "      <td>gold</td>\n",
              "      <td>High</td>\n",
              "      <td>no</td>\n",
              "    </tr>\n",
              "  </tbody>\n",
              "</table>\n",
              "<p>2349 rows × 4 columns</p>\n",
              "</div>"
            ],
            "text/plain": [
              "            employer  platinum    High  yes\n",
              "1           employer    normal  Medium   no\n",
              "2           employer    normal     Low  yes\n",
              "3           employer    normal     Low   no\n",
              "4           employer    normal     Low  yes\n",
              "5           employer    normal    High   no\n",
              "...              ...       ...     ...  ...\n",
              "2345  Fresh_Graduate  platinum    High   no\n",
              "2346  Fresh_Graduate    normal    High  yes\n",
              "2347  Fresh_Graduate    normal  Medium   no\n",
              "2348  Fresh_Graduate    normal     Low  yes\n",
              "2349  Fresh_Graduate      gold    High   no\n",
              "\n",
              "[2349 rows x 4 columns]"
            ]
          },
          "execution_count": 28,
          "metadata": {},
          "output_type": "execute_result"
        }
      ],
      "source": [
        "bank_data.rename(columns=df.iloc[0]).drop(df.index[0])\n"
      ]
    },
    {
      "cell_type": "code",
      "execution_count": null,
      "metadata": {
        "id": "z-IEdwTUGaqs"
      },
      "outputs": [],
      "source": [
        "records = []\n",
        "for i in range(0, 2349):\n",
        "    records.append([str(bank_data.values[i,j]) for j in range(0, 4)])"
      ]
    },
    {
      "cell_type": "code",
      "execution_count": null,
      "metadata": {
        "id": "Lp20e8-hGaqs"
      },
      "outputs": [],
      "source": [
        "association_rules = apriori(records, min_support=0.01, min_confidence=0.01, min_lift=1.1, min_length=2)\n",
        "association_results = list(association_rules)"
      ]
    },
    {
      "cell_type": "code",
      "execution_count": null,
      "metadata": {
        "id": "RhWBwu6WGaqt",
        "outputId": "3b229422-48e3-4876-bb3a-de56b6e9ab02"
      },
      "outputs": [
        {
          "data": {
            "text/plain": [
              "53"
            ]
          },
          "execution_count": 31,
          "metadata": {},
          "output_type": "execute_result"
        }
      ],
      "source": [
        "len(association_results)"
      ]
    },
    {
      "cell_type": "code",
      "execution_count": null,
      "metadata": {
        "id": "Bs9kAuwXGaqv",
        "outputId": "0c9fb8e5-0e79-433c-b19f-c2700934ef84"
      },
      "outputs": [
        {
          "name": "stdout",
          "output_type": "stream",
          "text": [
            "        Feature 1       Feature 2  Support Confidence     Lift\n",
            "0   Self_Employed            High  0.07066    0.28279  1.10713\n",
            "1            gold             Low  0.12175    0.31394  1.13279\n",
            "2      government             Low  0.07364    0.18990  1.11519\n",
            "3        employer          Medium  0.03746    0.10340  1.21452\n",
            "4        platinum          Medium  0.03831    0.10575  1.18297\n",
            "5        platinum   Self_Employed  0.02767    0.10833  1.21178\n",
            "6              no            High  0.03235    0.12947  1.10996\n",
            "7             Low            gold  0.02852    0.10291  1.14576\n",
            "8            gold  Fresh_Graduate  0.02511    0.10746  1.14227\n",
            "9            gold  Fresh_Graduate  0.03788    0.16211  1.15046\n",
            "10             no        platinum  0.01234    0.02470  1.11585\n",
            "11         normal   Self_Employed  0.04725    0.18909  1.20703\n",
            "12  Self_Employed            High  0.03618    0.14480  1.13381\n",
            "13       employer            High  0.01064    0.02127  1.11063\n",
            "14           gold            High  0.03405    0.06814  1.11158\n",
            "15       platinum            High  0.01191    0.04770  1.17944\n",
            "16           gold   Self_Employed  0.03150    0.08122  1.14256\n",
            "17           gold             Low  0.03065    0.07903  1.12515\n",
            "18           gold      government  0.02171    0.05598  1.24059\n",
            "19           gold             Low  0.06002    0.21658  1.10362\n",
            "20           gold             yes  0.06172    0.15916  1.16837\n",
            "21             no      government  0.03746    0.09659  1.13453\n",
            "22         normal      government  0.04895    0.12623  1.13611\n",
            "23            yes      government  0.03618     0.2125  1.10924\n",
            "24             no        platinum  0.01745    0.03492  1.24295\n",
            "25       platinum   Self_Employed  0.01149    0.03172  1.14657\n",
            "26             no        employer  0.01958    0.05405  1.26972\n",
            "27       employer          normal  0.02554    0.07050  1.28385\n",
            "28       employer             yes  0.01787    0.04935  1.15931\n",
            "29             no        platinum  0.02043    0.05640  1.15211\n",
            "30       platinum             yes  0.01787    0.04935  1.22033\n",
            "31             no   Self_Employed  0.01532       0.06  1.22556\n",
            "32       platinum   Self_Employed  0.01234    0.04833  1.19510\n",
            "33             no          normal  0.02128    0.09107  1.12597\n",
            "34            Low            gold  0.01362    0.04915  1.13201\n",
            "35            Low             yes  0.01489    0.03841  1.25343\n",
            "36           gold              no  0.01575    0.06739  1.43919\n",
            "37            yes          normal  0.03065    0.08460  1.10411\n",
            "38             no   Self_Employed  0.02256    0.09028  1.17827\n",
            "39         normal   Self_Employed  0.02469    0.09880  1.23456\n",
            "40         normal            High  0.02341    0.09369  1.11722\n",
            "41         normal      government  0.01362    0.02150  1.14809\n",
            "42           gold   Self_Employed  0.01575    0.04061  1.13576\n",
            "43           gold             yes  0.01575    0.04061  1.14944\n",
            "44           gold              no  0.01660    0.04281  1.22635\n",
            "45             no          normal  0.03405    0.13333  1.12258\n",
            "46           gold             yes  0.01191    0.03073  1.33699\n",
            "47             no      government  0.02639    0.06805  1.21110\n",
            "48         normal             yes  0.02256     0.1325  1.11158\n",
            "49       employee            gold  0.01447    0.03995  1.13071\n",
            "50       employee              no  0.03192      0.125  1.13368\n",
            "51             no        employer  0.01234    0.03407  1.27060\n",
            "52       employer          normal  0.01319    0.03642  1.29649\n"
          ]
        }
      ],
      "source": [
        "results = []\n",
        "for item in association_results:\n",
        "    \n",
        "    # first index of the inner list\n",
        "    # Contains base item and add item\n",
        "    pair = item[0] \n",
        "    items = [x for x in pair]\n",
        "    \n",
        "    value0 = str(items[0])\n",
        "    value1 = str(items[1])\n",
        "\n",
        "    #second index of the inner list\n",
        "    value2 = str(item[1])[:7]\n",
        "\n",
        "    #third index of the list located at 0th\n",
        "    #of the third index of the inner list\n",
        "\n",
        "    value3 = str(item[2][0][2])[:7]\n",
        "    value4 = str(item[2][0][3])[:7]\n",
        "    \n",
        "    rows = (value0, value1,value2,value3,value4)\n",
        "    results.append(rows)\n",
        "    \n",
        "labels = ['Feature 1','Feature 2','Support','Confidence','Lift']\n",
        "bank_suggestion = pd.DataFrame.from_records(results, columns = labels)\n",
        "\n",
        "print(bank_suggestion)"
      ]
    },
    {
      "cell_type": "markdown",
      "metadata": {
        "id": "10OZ5fJ7Gaqw"
      },
      "source": [
        "- The support value for the second rule is 0.12175. This number is calculated by dividing the number of low income range applicants divided by total number of applications. The confidence level for the rule is 0.31394 which shows that out of all the applicants with low income, around 31.4% of the them are using the Gold Credit Card. Finally, the lift of 1.13279 tells us that Gold Credit Card is 1.13279 times more likely to be owned by applicants with low income range compared to the default likelihood of the Gold Credit Card ownership."
      ]
    },
    {
      "cell_type": "markdown",
      "metadata": {
        "id": "uDNmO1g6Gaqx"
      },
      "source": [
        "# Feature Encoding"
      ]
    },
    {
      "cell_type": "markdown",
      "metadata": {
        "id": "pvnf-a-QGaqz"
      },
      "source": [
        "### One-Hot Encoding\n",
        "\n",
        "One-Hot Encoding is used because the categories are unordered.They are also nominal data with less that 15 cardinality."
      ]
    },
    {
      "cell_type": "code",
      "execution_count": null,
      "metadata": {
        "id": "W-GhHYR9Gaq0"
      },
      "outputs": [],
      "source": [
        "# Create a list of features to dummy\n",
        "\n",
        "df = pd.get_dummies(df,columns = ['Employment_Type','Property_Type','State','Credit_Card_types','More_Than_One_Products','Income_Range'],\n",
        "              drop_first = True)"
      ]
    },
    {
      "cell_type": "markdown",
      "metadata": {
        "id": "KndS0ojUGaq1"
      },
      "source": [
        "### Mapping"
      ]
    },
    {
      "cell_type": "code",
      "execution_count": null,
      "metadata": {
        "id": "1fh7S4HNGaq1"
      },
      "outputs": [],
      "source": [
        "df['Decision'] =df['Decision'].map({'Accept': 1, 'Reject': 0})\n"
      ]
    },
    {
      "cell_type": "markdown",
      "metadata": {
        "id": "RIC5cfdwGaq2"
      },
      "source": [
        "- Dummy based encoding is used for the following categories as they are nominal data with less than 15 cardinality"
      ]
    },
    {
      "cell_type": "code",
      "execution_count": null,
      "metadata": {
        "id": "dY21QD1DGaq3",
        "outputId": "41a9da28-fd03-4377-ced9-eb69ccb24632"
      },
      "outputs": [
        {
          "data": {
            "text/plain": [
              "<matplotlib.axes._subplots.AxesSubplot at 0x1ea93697688>"
            ]
          },
          "execution_count": 35,
          "metadata": {},
          "output_type": "execute_result"
        },
        {
          "data": {
            "image/png": "[encoded data removed]",
            "text/plain": [
              "<Figure size 432x288 with 1 Axes>"
            ]
          },
          "metadata": {
            "needs_background": "light"
          },
          "output_type": "display_data"
        }
      ],
      "source": [
        "sns.countplot(x='Decision', data=df)"
      ]
    },
    {
      "cell_type": "markdown",
      "metadata": {
        "id": "HDc2sStWGaq5"
      },
      "source": [
        "# Feature Selection"
      ]
    },
    {
      "cell_type": "markdown",
      "metadata": {
        "id": "itoxhJ1-Gaq6"
      },
      "source": [
        "## Boruta Feature Selection"
      ]
    },
    {
      "cell_type": "markdown",
      "metadata": {
        "id": "rZ1lq25lGarh"
      },
      "source": [
        "- Boruta Feature Selection is used as it improved the accuracy of the prediction models compared to other methods like Univariate Selection. Boruto Algorithm helps in building predictive models free from correlated variables, biases and unwanted noise."
      ]
    },
    {
      "cell_type": "code",
      "execution_count": null,
      "metadata": {
        "id": "zu-JvAyCGari"
      },
      "outputs": [],
      "source": [
        "from sklearn.ensemble import RandomForestClassifier\n",
        "from boruta import boruta_py\n",
        "from sklearn.preprocessing import MinMaxScaler"
      ]
    },
    {
      "cell_type": "code",
      "execution_count": null,
      "metadata": {
        "id": "z7SzFVjUGari"
      },
      "outputs": [],
      "source": [
        "def ranking(ranks, names, order=1):\n",
        "    minmax = MinMaxScaler()\n",
        "    ranks = minmax.fit_transform(order*np.array([ranks]).T).T[0]\n",
        "    ranks = map(lambda x: round(x,2), ranks)\n",
        "    return dict(zip(names, ranks))"
      ]
    },
    {
      "cell_type": "code",
      "execution_count": null,
      "metadata": {
        "id": "zUAzpvVUGark"
      },
      "outputs": [],
      "source": [
        "newX = df.loc[:, df.columns != 'Decision']\n",
        "newy = df.loc[:, df.columns == 'Decision']\n",
        "colnames = newX.columns\n"
      ]
    },
    {
      "cell_type": "code",
      "execution_count": null,
      "metadata": {
        "id": "3Rawa24_Garl",
        "outputId": "08f3e167-f5d3-4347-8929-97b9c5928624"
      },
      "outputs": [
        {
          "name": "stdout",
          "output_type": "stream",
          "text": [
            "Iteration: \t1 / 100\n",
            "Confirmed: \t0\n",
            "Tentative: \t35\n",
            "Rejected: \t0\n",
            "Iteration: \t2 / 100\n",
            "Confirmed: \t0\n",
            "Tentative: \t35\n",
            "Rejected: \t0\n",
            "Iteration: \t3 / 100\n",
            "Confirmed: \t0\n",
            "Tentative: \t35\n",
            "Rejected: \t0\n",
            "Iteration: \t4 / 100\n",
            "Confirmed: \t0\n",
            "Tentative: \t35\n",
            "Rejected: \t0\n",
            "Iteration: \t5 / 100\n",
            "Confirmed: \t0\n",
            "Tentative: \t35\n",
            "Rejected: \t0\n",
            "Iteration: \t6 / 100\n",
            "Confirmed: \t0\n",
            "Tentative: \t35\n",
            "Rejected: \t0\n",
            "Iteration: \t7 / 100\n",
            "Confirmed: \t0\n",
            "Tentative: \t35\n",
            "Rejected: \t0\n",
            "Iteration: \t8 / 100\n",
            "Confirmed: \t0\n",
            "Tentative: \t2\n",
            "Rejected: \t33\n",
            "Iteration: \t9 / 100\n",
            "Confirmed: \t0\n",
            "Tentative: \t2\n",
            "Rejected: \t33\n",
            "Iteration: \t10 / 100\n",
            "Confirmed: \t0\n",
            "Tentative: \t2\n",
            "Rejected: \t33\n",
            "Iteration: \t11 / 100\n",
            "Confirmed: \t0\n",
            "Tentative: \t2\n",
            "Rejected: \t33\n",
            "Iteration: \t12 / 100\n",
            "Confirmed: \t0\n",
            "Tentative: \t2\n",
            "Rejected: \t33\n",
            "Iteration: \t13 / 100\n",
            "Confirmed: \t0\n",
            "Tentative: \t2\n",
            "Rejected: \t33\n",
            "Iteration: \t14 / 100\n",
            "Confirmed: \t0\n",
            "Tentative: \t2\n",
            "Rejected: \t33\n",
            "Iteration: \t15 / 100\n",
            "Confirmed: \t0\n",
            "Tentative: \t2\n",
            "Rejected: \t33\n",
            "Iteration: \t16 / 100\n",
            "Confirmed: \t0\n",
            "Tentative: \t0\n",
            "Rejected: \t35\n",
            "\n",
            "\n",
            "BorutaPy finished running.\n",
            "\n",
            "Iteration: \t17 / 100\n",
            "Confirmed: \t0\n",
            "Tentative: \t0\n",
            "Rejected: \t35\n"
          ]
        },
        {
          "data": {
            "text/plain": [
              "BorutaPy(estimator=RandomForestClassifier(class_weight='balanced',\n",
              "                                          n_estimators=20, n_jobs=-1,\n",
              "                                          random_state=<mtrand.RandomState object at 0x000001EAFA381C78>),\n",
              "         n_estimators='auto',\n",
              "         random_state=<mtrand.RandomState object at 0x000001EAFA381C78>,\n",
              "         verbose=2)"
            ]
          },
          "execution_count": 39,
          "metadata": {},
          "output_type": "execute_result"
        }
      ],
      "source": [
        "forest = RandomForestClassifier(n_jobs=-1, class_weight='balanced')\n",
        "feat_selector = boruta_py.BorutaPy(forest, n_estimators='auto', verbose=2)\n",
        "feat_selector.fit(newX.values, newy.values.ravel())\n"
      ]
    },
    {
      "cell_type": "code",
      "execution_count": null,
      "metadata": {
        "id": "S-Sn20PTGarm",
        "outputId": "33ed61f5-298d-47ad-ac7f-3febdf5484f1"
      },
      "outputs": [
        {
          "data": {
            "text/html": [
              "<div>\n",
              "<style scoped>\n",
              "    .dataframe tbody tr th:only-of-type {\n",
              "        vertical-align: middle;\n",
              "    }\n",
              "\n",
              "    .dataframe tbody tr th {\n",
              "        vertical-align: top;\n",
              "    }\n",
              "\n",
              "    .dataframe thead th {\n",
              "        text-align: right;\n",
              "    }\n",
              "</style>\n",
              "<table border=\"1\" class=\"dataframe\">\n",
              "  <thead>\n",
              "    <tr style=\"text-align: right;\">\n",
              "      <th></th>\n",
              "      <th>Features</th>\n",
              "      <th>Score</th>\n",
              "    </tr>\n",
              "  </thead>\n",
              "  <tbody>\n",
              "    <tr>\n",
              "      <td>12</td>\n",
              "      <td>Total_Sum_of_Loan</td>\n",
              "      <td>1.00</td>\n",
              "    </tr>\n",
              "    <tr>\n",
              "      <td>1</td>\n",
              "      <td>Loan_Amount</td>\n",
              "      <td>0.97</td>\n",
              "    </tr>\n",
              "    <tr>\n",
              "      <td>11</td>\n",
              "      <td>Monthly_Salary</td>\n",
              "      <td>0.94</td>\n",
              "    </tr>\n",
              "    <tr>\n",
              "      <td>13</td>\n",
              "      <td>Total_Income_for_Join_Application</td>\n",
              "      <td>0.91</td>\n",
              "    </tr>\n",
              "    <tr>\n",
              "      <td>2</td>\n",
              "      <td>Loan_Tenure_Year</td>\n",
              "      <td>0.88</td>\n",
              "    </tr>\n",
              "    <tr>\n",
              "      <td>4</td>\n",
              "      <td>Years_to_Financial_Freedom</td>\n",
              "      <td>0.85</td>\n",
              "    </tr>\n",
              "    <tr>\n",
              "      <td>0</td>\n",
              "      <td>Credit_Card_Exceed_Months</td>\n",
              "      <td>0.82</td>\n",
              "    </tr>\n",
              "    <tr>\n",
              "      <td>14</td>\n",
              "      <td>Score</td>\n",
              "      <td>0.79</td>\n",
              "    </tr>\n",
              "    <tr>\n",
              "      <td>5</td>\n",
              "      <td>Number_of_Credit_Card_Facility</td>\n",
              "      <td>0.79</td>\n",
              "    </tr>\n",
              "    <tr>\n",
              "      <td>10</td>\n",
              "      <td>Number_of_Side_Income</td>\n",
              "      <td>0.74</td>\n",
              "    </tr>\n",
              "    <tr>\n",
              "      <td>9</td>\n",
              "      <td>Years_for_Property_to_Completion</td>\n",
              "      <td>0.71</td>\n",
              "    </tr>\n",
              "    <tr>\n",
              "      <td>7</td>\n",
              "      <td>Number_of_Bank_Products</td>\n",
              "      <td>0.68</td>\n",
              "    </tr>\n",
              "    <tr>\n",
              "      <td>8</td>\n",
              "      <td>Number_of_Loan_to_Approve</td>\n",
              "      <td>0.65</td>\n",
              "    </tr>\n",
              "    <tr>\n",
              "      <td>6</td>\n",
              "      <td>Number_of_Properties</td>\n",
              "      <td>0.62</td>\n",
              "    </tr>\n",
              "    <tr>\n",
              "      <td>3</td>\n",
              "      <td>Number_of_Dependents</td>\n",
              "      <td>0.59</td>\n",
              "    </tr>\n",
              "    <tr>\n",
              "      <td>32</td>\n",
              "      <td>More_Than_One_Products_yes</td>\n",
              "      <td>0.56</td>\n",
              "    </tr>\n",
              "    <tr>\n",
              "      <td>30</td>\n",
              "      <td>Credit_Card_types_normal</td>\n",
              "      <td>0.53</td>\n",
              "    </tr>\n",
              "    <tr>\n",
              "      <td>34</td>\n",
              "      <td>Income_Range_Medium</td>\n",
              "      <td>0.50</td>\n",
              "    </tr>\n",
              "    <tr>\n",
              "      <td>23</td>\n",
              "      <td>State_Kuala Lumpur</td>\n",
              "      <td>0.47</td>\n",
              "    </tr>\n",
              "    <tr>\n",
              "      <td>15</td>\n",
              "      <td>Employment_Type_Self_Employed</td>\n",
              "      <td>0.44</td>\n",
              "    </tr>\n",
              "    <tr>\n",
              "      <td>33</td>\n",
              "      <td>Income_Range_Low</td>\n",
              "      <td>0.41</td>\n",
              "    </tr>\n",
              "    <tr>\n",
              "      <td>19</td>\n",
              "      <td>Property_Type_condominium</td>\n",
              "      <td>0.38</td>\n",
              "    </tr>\n",
              "    <tr>\n",
              "      <td>21</td>\n",
              "      <td>Property_Type_terrace</td>\n",
              "      <td>0.35</td>\n",
              "    </tr>\n",
              "    <tr>\n",
              "      <td>20</td>\n",
              "      <td>Property_Type_flat</td>\n",
              "      <td>0.32</td>\n",
              "    </tr>\n",
              "    <tr>\n",
              "      <td>16</td>\n",
              "      <td>Employment_Type_employee</td>\n",
              "      <td>0.29</td>\n",
              "    </tr>\n",
              "    <tr>\n",
              "      <td>31</td>\n",
              "      <td>Credit_Card_types_platinum</td>\n",
              "      <td>0.29</td>\n",
              "    </tr>\n",
              "    <tr>\n",
              "      <td>18</td>\n",
              "      <td>Employment_Type_government</td>\n",
              "      <td>0.24</td>\n",
              "    </tr>\n",
              "    <tr>\n",
              "      <td>25</td>\n",
              "      <td>State_Penang</td>\n",
              "      <td>0.21</td>\n",
              "    </tr>\n",
              "    <tr>\n",
              "      <td>28</td>\n",
              "      <td>State_Selangor</td>\n",
              "      <td>0.18</td>\n",
              "    </tr>\n",
              "    <tr>\n",
              "      <td>17</td>\n",
              "      <td>Employment_Type_employer</td>\n",
              "      <td>0.15</td>\n",
              "    </tr>\n",
              "    <tr>\n",
              "      <td>24</td>\n",
              "      <td>State_N.Sembilan</td>\n",
              "      <td>0.12</td>\n",
              "    </tr>\n",
              "    <tr>\n",
              "      <td>27</td>\n",
              "      <td>State_Sarawak</td>\n",
              "      <td>0.09</td>\n",
              "    </tr>\n",
              "    <tr>\n",
              "      <td>22</td>\n",
              "      <td>State_Kedah</td>\n",
              "      <td>0.06</td>\n",
              "    </tr>\n",
              "    <tr>\n",
              "      <td>26</td>\n",
              "      <td>State_Sabah</td>\n",
              "      <td>0.03</td>\n",
              "    </tr>\n",
              "    <tr>\n",
              "      <td>29</td>\n",
              "      <td>State_Terengganu</td>\n",
              "      <td>0.00</td>\n",
              "    </tr>\n",
              "  </tbody>\n",
              "</table>\n",
              "</div>"
            ],
            "text/plain": [
              "                             Features  Score\n",
              "12                  Total_Sum_of_Loan   1.00\n",
              "1                         Loan_Amount   0.97\n",
              "11                     Monthly_Salary   0.94\n",
              "13  Total_Income_for_Join_Application   0.91\n",
              "2                    Loan_Tenure_Year   0.88\n",
              "4          Years_to_Financial_Freedom   0.85\n",
              "0           Credit_Card_Exceed_Months   0.82\n",
              "14                              Score   0.79\n",
              "5      Number_of_Credit_Card_Facility   0.79\n",
              "10              Number_of_Side_Income   0.74\n",
              "9    Years_for_Property_to_Completion   0.71\n",
              "7             Number_of_Bank_Products   0.68\n",
              "8           Number_of_Loan_to_Approve   0.65\n",
              "6                Number_of_Properties   0.62\n",
              "3                Number_of_Dependents   0.59\n",
              "32         More_Than_One_Products_yes   0.56\n",
              "30           Credit_Card_types_normal   0.53\n",
              "34                Income_Range_Medium   0.50\n",
              "23                 State_Kuala Lumpur   0.47\n",
              "15      Employment_Type_Self_Employed   0.44\n",
              "33                   Income_Range_Low   0.41\n",
              "19          Property_Type_condominium   0.38\n",
              "21              Property_Type_terrace   0.35\n",
              "20                 Property_Type_flat   0.32\n",
              "16           Employment_Type_employee   0.29\n",
              "31         Credit_Card_types_platinum   0.29\n",
              "18         Employment_Type_government   0.24\n",
              "25                       State_Penang   0.21\n",
              "28                     State_Selangor   0.18\n",
              "17           Employment_Type_employer   0.15\n",
              "24                   State_N.Sembilan   0.12\n",
              "27                      State_Sarawak   0.09\n",
              "22                        State_Kedah   0.06\n",
              "26                        State_Sabah   0.03\n",
              "29                   State_Terengganu   0.00"
            ]
          },
          "execution_count": 40,
          "metadata": {},
          "output_type": "execute_result"
        }
      ],
      "source": [
        "boruta_score = ranking(list(map(float, feat_selector.ranking_)), colnames, order=-1)\n",
        "boruta_score = pd.DataFrame(list(boruta_score.items()), columns=['Features', 'Score'])\n",
        "boruta_score = boruta_score.sort_values(\"Score\",ascending=False)\n",
        "boruta_score"
      ]
    },
    {
      "cell_type": "markdown",
      "metadata": {
        "id": "-S15ARxHGarr"
      },
      "source": [
        "### The best 10 features is selected to use with our predictive model"
      ]
    },
    {
      "cell_type": "code",
      "execution_count": null,
      "metadata": {
        "id": "lUePcmmAGarr",
        "outputId": "506e83a1-8c08-4f99-879e-0a157ad8dd6a"
      },
      "outputs": [
        {
          "name": "stdout",
          "output_type": "stream",
          "text": [
            "                             Features  Score\n",
            "12                  Total_Sum_of_Loan   1.00\n",
            "1                         Loan_Amount   0.97\n",
            "11                     Monthly_Salary   0.94\n",
            "13  Total_Income_for_Join_Application   0.91\n",
            "2                    Loan_Tenure_Year   0.88\n",
            "4          Years_to_Financial_Freedom   0.85\n",
            "0           Credit_Card_Exceed_Months   0.82\n",
            "14                              Score   0.79\n",
            "5      Number_of_Credit_Card_Facility   0.79\n",
            "10              Number_of_Side_Income   0.74\n"
          ]
        }
      ],
      "source": [
        "print(boruta_score.nlargest(10,'Score'))"
      ]
    },
    {
      "cell_type": "markdown",
      "metadata": {
        "id": "ZzzlD3r_Gars"
      },
      "source": [
        "# Machine Learning"
      ]
    },
    {
      "cell_type": "markdown",
      "metadata": {
        "id": "cHNLj_3dGaru"
      },
      "source": [
        "## K-means Clustering"
      ]
    },
    {
      "cell_type": "code",
      "execution_count": null,
      "metadata": {
        "id": "-XPgPN3PGaru"
      },
      "outputs": [],
      "source": [
        "df_new=df.copy()"
      ]
    },
    {
      "cell_type": "code",
      "execution_count": null,
      "metadata": {
        "id": "eODxwD-gGarv"
      },
      "outputs": [],
      "source": [
        "X = df.drop('Decision', axis=1)\n",
        "y = df['Decision']"
      ]
    },
    {
      "cell_type": "code",
      "execution_count": null,
      "metadata": {
        "id": "_StQJ2NvGarw",
        "outputId": "8eb1111e-8ec1-4981-b068-08770ae7f340"
      },
      "outputs": [
        {
          "data": {
            "image/png": "[encoded data removed]",
            "text/plain": [
              "<Figure size 438.75x360 with 1 Axes>"
            ]
          },
          "metadata": {
            "needs_background": "light"
          },
          "output_type": "display_data"
        }
      ],
      "source": [
        "ax=sns.relplot(x='Years_to_Financial_Freedom', y='Years_for_Property_to_Completion',hue=\"Decision\",data=df)"
      ]
    },
    {
      "cell_type": "code",
      "execution_count": null,
      "metadata": {
        "id": "88lCX2Z3Garx",
        "outputId": "453c5a7d-c2d1-4b12-c8da-66fe4e9edd51"
      },
      "outputs": [
        {
          "data": {
            "text/plain": [
              "array([1, 2, 1, ..., 2, 2, 2])"
            ]
          },
          "execution_count": 45,
          "metadata": {},
          "output_type": "execute_result"
        }
      ],
      "source": [
        "from sklearn.cluster import KMeans\n",
        "\n",
        "km = KMeans(n_clusters=3, random_state=1)\n",
        "y_predicted = km.fit_predict(df_new[['Years_to_Financial_Freedom','Years_for_Property_to_Completion']])\n",
        "km.labels_"
      ]
    },
    {
      "cell_type": "code",
      "execution_count": null,
      "metadata": {
        "id": "lvbppxc7Gary"
      },
      "outputs": [],
      "source": [
        "sse = []\n",
        "k_rng = range(1,11)\n",
        "for k in k_rng:\n",
        "    km = KMeans(n_clusters=k, init='random',n_init=10,max_iter=100, random_state=0 )\n",
        "    km.fit(df_new[['Years_to_Financial_Freedom','Years_for_Property_to_Completion']])\n",
        "    sse.append(km.inertia_)"
      ]
    },
    {
      "cell_type": "markdown",
      "metadata": {
        "id": "8BRmX2iDGarz"
      },
      "source": [
        "- This loop is used to find the optimum K value by inspecting the location of the elbow criterion."
      ]
    },
    {
      "cell_type": "code",
      "execution_count": null,
      "metadata": {
        "id": "7OHpPOyIGar0",
        "outputId": "5e263f07-68d8-468f-9de2-4b551aa7f834"
      },
      "outputs": [
        {
          "data": {
            "text/plain": [
              "[<matplotlib.lines.Line2D at 0x1ea937b09c8>]"
            ]
          },
          "execution_count": 47,
          "metadata": {},
          "output_type": "execute_result"
        },
        {
          "data": {
            "image/png": "[encoded data removed]",
            "text/plain": [
              "<Figure size 432x288 with 1 Axes>"
            ]
          },
          "metadata": {
            "needs_background": "light"
          },
          "output_type": "display_data"
        }
      ],
      "source": [
        "plt.xlabel('K')\n",
        "plt.ylabel('Sum of squared error')\n",
        "plt.plot(k_rng,sse)"
      ]
    },
    {
      "cell_type": "markdown",
      "metadata": {
        "id": "Q9F8IpY2Gar1"
      },
      "source": [
        "- From the above graph, using elbow method, we can see that the most optimum K is 3"
      ]
    },
    {
      "cell_type": "code",
      "execution_count": null,
      "metadata": {
        "id": "8oWo6PRCGar2",
        "outputId": "d8fdb679-cc47-466f-d974-5177508e01ba"
      },
      "outputs": [
        {
          "data": {
            "text/plain": [
              "array([1, 2, 1, ..., 2, 2, 2])"
            ]
          },
          "execution_count": 48,
          "metadata": {},
          "output_type": "execute_result"
        }
      ],
      "source": [
        "from sklearn.cluster import KMeans\n",
        "\n",
        "km = KMeans(n_clusters=3, random_state=1)\n",
        "y_predicted = km.fit_predict(df_new[['Years_to_Financial_Freedom','Years_for_Property_to_Completion']])\n",
        "km.labels_"
      ]
    },
    {
      "cell_type": "markdown",
      "metadata": {
        "id": "XKTovwaSGar3"
      },
      "source": [
        "- K=3 is chosen to do carry out our Clustering"
      ]
    },
    {
      "cell_type": "code",
      "execution_count": null,
      "metadata": {
        "id": "P5IfFGtrGar4"
      },
      "outputs": [],
      "source": [
        "df_new2=df_new.copy()\n",
        "df_new2=df_new2.drop(\"Decision\", axis=1)\n",
        "df_new2['Decision']=km.labels_"
      ]
    },
    {
      "cell_type": "code",
      "execution_count": null,
      "metadata": {
        "id": "BogOwQ0yGar4",
        "outputId": "604f4172-2778-4c56-e243-f316f77b70a9"
      },
      "outputs": [
        {
          "data": {
            "text/html": [
              "<div>\n",
              "<style scoped>\n",
              "    .dataframe tbody tr th:only-of-type {\n",
              "        vertical-align: middle;\n",
              "    }\n",
              "\n",
              "    .dataframe tbody tr th {\n",
              "        vertical-align: top;\n",
              "    }\n",
              "\n",
              "    .dataframe thead th {\n",
              "        text-align: right;\n",
              "    }\n",
              "</style>\n",
              "<table border=\"1\" class=\"dataframe\">\n",
              "  <thead>\n",
              "    <tr style=\"text-align: right;\">\n",
              "      <th></th>\n",
              "      <th>Credit_Card_Exceed_Months</th>\n",
              "      <th>Loan_Amount</th>\n",
              "      <th>Loan_Tenure_Year</th>\n",
              "      <th>Number_of_Dependents</th>\n",
              "      <th>Years_to_Financial_Freedom</th>\n",
              "      <th>Number_of_Credit_Card_Facility</th>\n",
              "      <th>Number_of_Properties</th>\n",
              "      <th>Number_of_Bank_Products</th>\n",
              "      <th>Number_of_Loan_to_Approve</th>\n",
              "      <th>Years_for_Property_to_Completion</th>\n",
              "      <th>...</th>\n",
              "      <th>State_Sabah</th>\n",
              "      <th>State_Sarawak</th>\n",
              "      <th>State_Selangor</th>\n",
              "      <th>State_Terengganu</th>\n",
              "      <th>Credit_Card_types_normal</th>\n",
              "      <th>Credit_Card_types_platinum</th>\n",
              "      <th>More_Than_One_Products_yes</th>\n",
              "      <th>Income_Range_Low</th>\n",
              "      <th>Income_Range_Medium</th>\n",
              "      <th>Decision</th>\n",
              "    </tr>\n",
              "  </thead>\n",
              "  <tbody>\n",
              "    <tr>\n",
              "      <td>0</td>\n",
              "      <td>1</td>\n",
              "      <td>443086.929043</td>\n",
              "      <td>16.000000</td>\n",
              "      <td>2</td>\n",
              "      <td>5.000000</td>\n",
              "      <td>2.000000</td>\n",
              "      <td>2.0</td>\n",
              "      <td>1.000000</td>\n",
              "      <td>1</td>\n",
              "      <td>10.0</td>\n",
              "      <td>...</td>\n",
              "      <td>0</td>\n",
              "      <td>0</td>\n",
              "      <td>0</td>\n",
              "      <td>0</td>\n",
              "      <td>0</td>\n",
              "      <td>1</td>\n",
              "      <td>1</td>\n",
              "      <td>0</td>\n",
              "      <td>0</td>\n",
              "      <td>1</td>\n",
              "    </tr>\n",
              "    <tr>\n",
              "      <td>1</td>\n",
              "      <td>1</td>\n",
              "      <td>605505.000000</td>\n",
              "      <td>19.000000</td>\n",
              "      <td>2</td>\n",
              "      <td>13.372871</td>\n",
              "      <td>2.000000</td>\n",
              "      <td>2.0</td>\n",
              "      <td>1.000000</td>\n",
              "      <td>2</td>\n",
              "      <td>10.0</td>\n",
              "      <td>...</td>\n",
              "      <td>0</td>\n",
              "      <td>0</td>\n",
              "      <td>0</td>\n",
              "      <td>0</td>\n",
              "      <td>1</td>\n",
              "      <td>0</td>\n",
              "      <td>0</td>\n",
              "      <td>0</td>\n",
              "      <td>1</td>\n",
              "      <td>2</td>\n",
              "    </tr>\n",
              "    <tr>\n",
              "      <td>2</td>\n",
              "      <td>1</td>\n",
              "      <td>443086.929043</td>\n",
              "      <td>17.056375</td>\n",
              "      <td>2</td>\n",
              "      <td>5.000000</td>\n",
              "      <td>2.000000</td>\n",
              "      <td>2.0</td>\n",
              "      <td>2.104025</td>\n",
              "      <td>3</td>\n",
              "      <td>10.0</td>\n",
              "      <td>...</td>\n",
              "      <td>0</td>\n",
              "      <td>0</td>\n",
              "      <td>0</td>\n",
              "      <td>0</td>\n",
              "      <td>1</td>\n",
              "      <td>0</td>\n",
              "      <td>1</td>\n",
              "      <td>1</td>\n",
              "      <td>0</td>\n",
              "      <td>1</td>\n",
              "    </tr>\n",
              "    <tr>\n",
              "      <td>3</td>\n",
              "      <td>1</td>\n",
              "      <td>490216.000000</td>\n",
              "      <td>17.056375</td>\n",
              "      <td>2</td>\n",
              "      <td>5.000000</td>\n",
              "      <td>3.737273</td>\n",
              "      <td>2.0</td>\n",
              "      <td>1.000000</td>\n",
              "      <td>1</td>\n",
              "      <td>10.0</td>\n",
              "      <td>...</td>\n",
              "      <td>0</td>\n",
              "      <td>0</td>\n",
              "      <td>0</td>\n",
              "      <td>0</td>\n",
              "      <td>1</td>\n",
              "      <td>0</td>\n",
              "      <td>0</td>\n",
              "      <td>1</td>\n",
              "      <td>0</td>\n",
              "      <td>1</td>\n",
              "    </tr>\n",
              "    <tr>\n",
              "      <td>4</td>\n",
              "      <td>1</td>\n",
              "      <td>292728.000000</td>\n",
              "      <td>14.000000</td>\n",
              "      <td>2</td>\n",
              "      <td>5.000000</td>\n",
              "      <td>2.000000</td>\n",
              "      <td>2.0</td>\n",
              "      <td>1.000000</td>\n",
              "      <td>2</td>\n",
              "      <td>10.0</td>\n",
              "      <td>...</td>\n",
              "      <td>0</td>\n",
              "      <td>0</td>\n",
              "      <td>0</td>\n",
              "      <td>0</td>\n",
              "      <td>1</td>\n",
              "      <td>0</td>\n",
              "      <td>1</td>\n",
              "      <td>1</td>\n",
              "      <td>0</td>\n",
              "      <td>1</td>\n",
              "    </tr>\n",
              "  </tbody>\n",
              "</table>\n",
              "<p>5 rows × 36 columns</p>\n",
              "</div>"
            ],
            "text/plain": [
              "   Credit_Card_Exceed_Months    Loan_Amount  Loan_Tenure_Year  \\\n",
              "0                          1  443086.929043         16.000000   \n",
              "1                          1  605505.000000         19.000000   \n",
              "2                          1  443086.929043         17.056375   \n",
              "3                          1  490216.000000         17.056375   \n",
              "4                          1  292728.000000         14.000000   \n",
              "\n",
              "   Number_of_Dependents  Years_to_Financial_Freedom  \\\n",
              "0                     2                    5.000000   \n",
              "1                     2                   13.372871   \n",
              "2                     2                    5.000000   \n",
              "3                     2                    5.000000   \n",
              "4                     2                    5.000000   \n",
              "\n",
              "   Number_of_Credit_Card_Facility  Number_of_Properties  \\\n",
              "0                        2.000000                   2.0   \n",
              "1                        2.000000                   2.0   \n",
              "2                        2.000000                   2.0   \n",
              "3                        3.737273                   2.0   \n",
              "4                        2.000000                   2.0   \n",
              "\n",
              "   Number_of_Bank_Products  Number_of_Loan_to_Approve  \\\n",
              "0                 1.000000                          1   \n",
              "1                 1.000000                          2   \n",
              "2                 2.104025                          3   \n",
              "3                 1.000000                          1   \n",
              "4                 1.000000                          2   \n",
              "\n",
              "   Years_for_Property_to_Completion  ...  State_Sabah  State_Sarawak  \\\n",
              "0                              10.0  ...            0              0   \n",
              "1                              10.0  ...            0              0   \n",
              "2                              10.0  ...            0              0   \n",
              "3                              10.0  ...            0              0   \n",
              "4                              10.0  ...            0              0   \n",
              "\n",
              "   State_Selangor  State_Terengganu  Credit_Card_types_normal  \\\n",
              "0               0                 0                         0   \n",
              "1               0                 0                         1   \n",
              "2               0                 0                         1   \n",
              "3               0                 0                         1   \n",
              "4               0                 0                         1   \n",
              "\n",
              "   Credit_Card_types_platinum  More_Than_One_Products_yes  Income_Range_Low  \\\n",
              "0                           1                           1                 0   \n",
              "1                           0                           0                 0   \n",
              "2                           0                           1                 1   \n",
              "3                           0                           0                 1   \n",
              "4                           0                           1                 1   \n",
              "\n",
              "   Income_Range_Medium  Decision  \n",
              "0                    0         1  \n",
              "1                    1         2  \n",
              "2                    0         1  \n",
              "3                    0         1  \n",
              "4                    0         1  \n",
              "\n",
              "[5 rows x 36 columns]"
            ]
          },
          "execution_count": 50,
          "metadata": {},
          "output_type": "execute_result"
        }
      ],
      "source": [
        "df_new2.head()"
      ]
    },
    {
      "cell_type": "code",
      "execution_count": null,
      "metadata": {
        "id": "9WOT37NuGar6",
        "outputId": "716e3eab-58cd-4a98-b477-fbff4fdbb586"
      },
      "outputs": [
        {
          "data": {
            "text/plain": [
              "<matplotlib.axes._subplots.AxesSubplot at 0x1ea920be248>"
            ]
          },
          "execution_count": 51,
          "metadata": {},
          "output_type": "execute_result"
        },
        {
          "data": {
            "image/png": "[encoded data removed]",
            "text/plain": [
              "<Figure size 936x432 with 2 Axes>"
            ]
          },
          "metadata": {
            "needs_background": "light"
          },
          "output_type": "display_data"
        }
      ],
      "source": [
        "fig, axes = plt.subplots(1, 2, figsize=(13,6))\n",
        "\n",
        "sns.scatterplot(x=\"Years_to_Financial_Freedom\", y=\"Years_for_Property_to_Completion\", hue=\"Decision\", palette=\"tab10\", data=df_new, ax=axes[0])\n",
        "sns.scatterplot(x=\"Years_to_Financial_Freedom\", y=\"Years_for_Property_to_Completion\", hue=\"Decision\", palette=\"tab10\", data=df_new2, ax=axes[1])"
      ]
    },
    {
      "cell_type": "markdown",
      "metadata": {
        "id": "l1bqJ7q_Gar8"
      },
      "source": [
        "- The figure on the left is before clustering, The figure on the right is after clustering."
      ]
    },
    {
      "cell_type": "markdown",
      "metadata": {
        "id": "7WSedvn_Gar9"
      },
      "source": [
        "## Predictive Algorithms"
      ]
    },
    {
      "cell_type": "code",
      "execution_count": null,
      "metadata": {
        "id": "F8kKAW00Gar-",
        "outputId": "3e108382-bf29-4a4c-e4b6-10db25085d36"
      },
      "outputs": [
        {
          "data": {
            "text/html": [
              "<div>\n",
              "<style scoped>\n",
              "    .dataframe tbody tr th:only-of-type {\n",
              "        vertical-align: middle;\n",
              "    }\n",
              "\n",
              "    .dataframe tbody tr th {\n",
              "        vertical-align: top;\n",
              "    }\n",
              "\n",
              "    .dataframe thead th {\n",
              "        text-align: right;\n",
              "    }\n",
              "</style>\n",
              "<table border=\"1\" class=\"dataframe\">\n",
              "  <thead>\n",
              "    <tr style=\"text-align: right;\">\n",
              "      <th></th>\n",
              "      <th>Credit_Card_Exceed_Months</th>\n",
              "      <th>Loan_Amount</th>\n",
              "      <th>Loan_Tenure_Year</th>\n",
              "      <th>Number_of_Dependents</th>\n",
              "      <th>Years_to_Financial_Freedom</th>\n",
              "      <th>Number_of_Credit_Card_Facility</th>\n",
              "      <th>Number_of_Properties</th>\n",
              "      <th>Number_of_Bank_Products</th>\n",
              "      <th>Number_of_Loan_to_Approve</th>\n",
              "      <th>Years_for_Property_to_Completion</th>\n",
              "      <th>...</th>\n",
              "      <th>State_Penang</th>\n",
              "      <th>State_Sabah</th>\n",
              "      <th>State_Sarawak</th>\n",
              "      <th>State_Selangor</th>\n",
              "      <th>State_Terengganu</th>\n",
              "      <th>Credit_Card_types_normal</th>\n",
              "      <th>Credit_Card_types_platinum</th>\n",
              "      <th>More_Than_One_Products_yes</th>\n",
              "      <th>Income_Range_Low</th>\n",
              "      <th>Income_Range_Medium</th>\n",
              "    </tr>\n",
              "  </thead>\n",
              "  <tbody>\n",
              "    <tr>\n",
              "      <td>0</td>\n",
              "      <td>1</td>\n",
              "      <td>443086.929043</td>\n",
              "      <td>16.000000</td>\n",
              "      <td>2</td>\n",
              "      <td>5.000000</td>\n",
              "      <td>2.000000</td>\n",
              "      <td>2.0</td>\n",
              "      <td>1.000000</td>\n",
              "      <td>1</td>\n",
              "      <td>10.0</td>\n",
              "      <td>...</td>\n",
              "      <td>0</td>\n",
              "      <td>0</td>\n",
              "      <td>0</td>\n",
              "      <td>0</td>\n",
              "      <td>0</td>\n",
              "      <td>0</td>\n",
              "      <td>1</td>\n",
              "      <td>1</td>\n",
              "      <td>0</td>\n",
              "      <td>0</td>\n",
              "    </tr>\n",
              "    <tr>\n",
              "      <td>1</td>\n",
              "      <td>1</td>\n",
              "      <td>605505.000000</td>\n",
              "      <td>19.000000</td>\n",
              "      <td>2</td>\n",
              "      <td>13.372871</td>\n",
              "      <td>2.000000</td>\n",
              "      <td>2.0</td>\n",
              "      <td>1.000000</td>\n",
              "      <td>2</td>\n",
              "      <td>10.0</td>\n",
              "      <td>...</td>\n",
              "      <td>0</td>\n",
              "      <td>0</td>\n",
              "      <td>0</td>\n",
              "      <td>0</td>\n",
              "      <td>0</td>\n",
              "      <td>1</td>\n",
              "      <td>0</td>\n",
              "      <td>0</td>\n",
              "      <td>0</td>\n",
              "      <td>1</td>\n",
              "    </tr>\n",
              "    <tr>\n",
              "      <td>2</td>\n",
              "      <td>1</td>\n",
              "      <td>443086.929043</td>\n",
              "      <td>17.056375</td>\n",
              "      <td>2</td>\n",
              "      <td>5.000000</td>\n",
              "      <td>2.000000</td>\n",
              "      <td>2.0</td>\n",
              "      <td>2.104025</td>\n",
              "      <td>3</td>\n",
              "      <td>10.0</td>\n",
              "      <td>...</td>\n",
              "      <td>0</td>\n",
              "      <td>0</td>\n",
              "      <td>0</td>\n",
              "      <td>0</td>\n",
              "      <td>0</td>\n",
              "      <td>1</td>\n",
              "      <td>0</td>\n",
              "      <td>1</td>\n",
              "      <td>1</td>\n",
              "      <td>0</td>\n",
              "    </tr>\n",
              "    <tr>\n",
              "      <td>3</td>\n",
              "      <td>1</td>\n",
              "      <td>490216.000000</td>\n",
              "      <td>17.056375</td>\n",
              "      <td>2</td>\n",
              "      <td>5.000000</td>\n",
              "      <td>3.737273</td>\n",
              "      <td>2.0</td>\n",
              "      <td>1.000000</td>\n",
              "      <td>1</td>\n",
              "      <td>10.0</td>\n",
              "      <td>...</td>\n",
              "      <td>0</td>\n",
              "      <td>0</td>\n",
              "      <td>0</td>\n",
              "      <td>0</td>\n",
              "      <td>0</td>\n",
              "      <td>1</td>\n",
              "      <td>0</td>\n",
              "      <td>0</td>\n",
              "      <td>1</td>\n",
              "      <td>0</td>\n",
              "    </tr>\n",
              "    <tr>\n",
              "      <td>4</td>\n",
              "      <td>1</td>\n",
              "      <td>292728.000000</td>\n",
              "      <td>14.000000</td>\n",
              "      <td>2</td>\n",
              "      <td>5.000000</td>\n",
              "      <td>2.000000</td>\n",
              "      <td>2.0</td>\n",
              "      <td>1.000000</td>\n",
              "      <td>2</td>\n",
              "      <td>10.0</td>\n",
              "      <td>...</td>\n",
              "      <td>0</td>\n",
              "      <td>0</td>\n",
              "      <td>0</td>\n",
              "      <td>0</td>\n",
              "      <td>0</td>\n",
              "      <td>1</td>\n",
              "      <td>0</td>\n",
              "      <td>1</td>\n",
              "      <td>1</td>\n",
              "      <td>0</td>\n",
              "    </tr>\n",
              "  </tbody>\n",
              "</table>\n",
              "<p>5 rows × 36 columns</p>\n",
              "</div>"
            ],
            "text/plain": [
              "   Credit_Card_Exceed_Months    Loan_Amount  Loan_Tenure_Year  \\\n",
              "0                          1  443086.929043         16.000000   \n",
              "1                          1  605505.000000         19.000000   \n",
              "2                          1  443086.929043         17.056375   \n",
              "3                          1  490216.000000         17.056375   \n",
              "4                          1  292728.000000         14.000000   \n",
              "\n",
              "   Number_of_Dependents  Years_to_Financial_Freedom  \\\n",
              "0                     2                    5.000000   \n",
              "1                     2                   13.372871   \n",
              "2                     2                    5.000000   \n",
              "3                     2                    5.000000   \n",
              "4                     2                    5.000000   \n",
              "\n",
              "   Number_of_Credit_Card_Facility  Number_of_Properties  \\\n",
              "0                        2.000000                   2.0   \n",
              "1                        2.000000                   2.0   \n",
              "2                        2.000000                   2.0   \n",
              "3                        3.737273                   2.0   \n",
              "4                        2.000000                   2.0   \n",
              "\n",
              "   Number_of_Bank_Products  Number_of_Loan_to_Approve  \\\n",
              "0                 1.000000                          1   \n",
              "1                 1.000000                          2   \n",
              "2                 2.104025                          3   \n",
              "3                 1.000000                          1   \n",
              "4                 1.000000                          2   \n",
              "\n",
              "   Years_for_Property_to_Completion  ...  State_Penang  State_Sabah  \\\n",
              "0                              10.0  ...             0            0   \n",
              "1                              10.0  ...             0            0   \n",
              "2                              10.0  ...             0            0   \n",
              "3                              10.0  ...             0            0   \n",
              "4                              10.0  ...             0            0   \n",
              "\n",
              "   State_Sarawak  State_Selangor  State_Terengganu  Credit_Card_types_normal  \\\n",
              "0              0               0                 0                         0   \n",
              "1              0               0                 0                         1   \n",
              "2              0               0                 0                         1   \n",
              "3              0               0                 0                         1   \n",
              "4              0               0                 0                         1   \n",
              "\n",
              "   Credit_Card_types_platinum  More_Than_One_Products_yes  Income_Range_Low  \\\n",
              "0                           1                           1                 0   \n",
              "1                           0                           0                 0   \n",
              "2                           0                           1                 1   \n",
              "3                           0                           0                 1   \n",
              "4                           0                           1                 1   \n",
              "\n",
              "   Income_Range_Medium  \n",
              "0                    0  \n",
              "1                    1  \n",
              "2                    0  \n",
              "3                    0  \n",
              "4                    0  \n",
              "\n",
              "[5 rows x 36 columns]"
            ]
          },
          "execution_count": 52,
          "metadata": {},
          "output_type": "execute_result"
        }
      ],
      "source": [
        "df.head()"
      ]
    },
    {
      "cell_type": "code",
      "execution_count": null,
      "metadata": {
        "scrolled": true,
        "id": "9PI5j0CvGar_",
        "outputId": "01ce19ea-e9ab-4eb0-e6e2-b38ddbc4d00e"
      },
      "outputs": [
        {
          "data": {
            "text/plain": [
              "1    0.752766\n",
              "0    0.247234\n",
              "Name: Decision, dtype: float64"
            ]
          },
          "execution_count": 53,
          "metadata": {},
          "output_type": "execute_result"
        }
      ],
      "source": [
        "X = df[['Monthly_Salary','Total_Sum_of_Loan','Total_Income_for_Join_Application','Loan_Amount','Loan_Tenure_Year','Years_to_Financial_Freedom','Credit_Card_Exceed_Months','Number_of_Credit_Card_Facility','Score','Number_of_Side_Income']]\n",
        "y = df['Decision']\n",
        "\n",
        "y.value_counts(normalize='True')\n"
      ]
    },
    {
      "cell_type": "markdown",
      "metadata": {
        "id": "lutG4BX2GasA"
      },
      "source": [
        "- As the acceptance rate is very high compared to rejection rate ADASYN is applied to carry out oversampling."
      ]
    },
    {
      "cell_type": "markdown",
      "metadata": {
        "id": "rMZEE0h3GasB"
      },
      "source": [
        "### Over-Sampling"
      ]
    },
    {
      "cell_type": "markdown",
      "metadata": {
        "id": "YrM5naClGasB"
      },
      "source": [
        "- Over-Sampling is done to balance the Decision data which is imbalanced"
      ]
    },
    {
      "cell_type": "code",
      "execution_count": null,
      "metadata": {
        "id": "6Vz0Stp6GasC",
        "outputId": "93f1f6da-e128-4955-9009-cfd23ff9efbe"
      },
      "outputs": [
        {
          "data": {
            "text/plain": [
              "0    1829\n",
              "1    1769\n",
              "Name: Decision, dtype: int64"
            ]
          },
          "execution_count": 54,
          "metadata": {},
          "output_type": "execute_result"
        }
      ],
      "source": [
        "from imblearn.over_sampling import ADASYN\n",
        "\n",
        "ada = ADASYN(sampling_strategy='minority', random_state= 420 , n_neighbors = 5)\n",
        "X, y = ada.fit_resample(X,y)\n",
        "y.value_counts()\n"
      ]
    },
    {
      "cell_type": "code",
      "execution_count": null,
      "metadata": {
        "id": "WalauvWoGasD"
      },
      "outputs": [],
      "source": [
        "from sklearn.model_selection import train_test_split\n",
        "from sklearn.model_selection import train_test_split \n",
        "from sklearn.metrics import precision_score\n",
        "from sklearn.metrics import recall_score\n",
        "from sklearn.metrics import f1_score\n",
        "from sklearn.metrics import roc_auc_score\n",
        "from sklearn.metrics import confusion_matrix\n",
        "from sklearn.metrics import accuracy_score, roc_auc_score, roc_curve"
      ]
    },
    {
      "cell_type": "code",
      "execution_count": null,
      "metadata": {
        "id": "bgt15-W2Gasy"
      },
      "outputs": [],
      "source": [
        "def classify(model, X, y):\n",
        "    X_train, X_test, y_train, y_test = train_test_split(X, y, test_size=0.25, random_state=42)\n",
        "    model.fit(X_train, y_train)\n",
        "    y_pred = model.predict(X_test)\n",
        "    \n",
        "    from sklearn.metrics import accuracy_score\n",
        "    accuracy=(accuracy_score(y_test,y_pred)*100)\n",
        "    print(\"Accuracy is\", accuracy)"
      ]
    },
    {
      "cell_type": "markdown",
      "metadata": {
        "id": "YzZvNQo7Gasy"
      },
      "source": [
        "### XGBoost Classifier"
      ]
    },
    {
      "cell_type": "code",
      "execution_count": null,
      "metadata": {
        "id": "GjQ6l52KGas2",
        "outputId": "04ef21c2-68fe-4441-ce88-7436377656f5"
      },
      "outputs": [
        {
          "name": "stdout",
          "output_type": "stream",
          "text": [
            "Accuracy is 79.11111111111111\n"
          ]
        }
      ],
      "source": [
        "from xgboost import XGBClassifier\n",
        "model= XGBClassifier(random_state=4)\n",
        "classify(model, X, y)"
      ]
    },
    {
      "cell_type": "markdown",
      "metadata": {
        "id": "3-peEHDOGas3"
      },
      "source": [
        "### Random Forest Classifier"
      ]
    },
    {
      "cell_type": "code",
      "execution_count": null,
      "metadata": {
        "id": "vPr2oizFGas4",
        "outputId": "37f64969-94a5-4c3c-d574-239923a7a89c"
      },
      "outputs": [
        {
          "name": "stdout",
          "output_type": "stream",
          "text": [
            "Accuracy is 81.22222222222221\n"
          ]
        }
      ],
      "source": [
        "from sklearn.ensemble import RandomForestClassifier,ExtraTreesClassifier\n",
        "model = RandomForestClassifier(random_state=4)\n",
        "classify(model, X, y)"
      ]
    },
    {
      "cell_type": "markdown",
      "metadata": {
        "id": "EVNMZViSGas6"
      },
      "source": [
        "### Logistic Regression "
      ]
    },
    {
      "cell_type": "code",
      "execution_count": null,
      "metadata": {
        "id": "V5sHaSK5Gas7",
        "outputId": "5175720f-989e-40d2-ec10-aa6a4382dffd"
      },
      "outputs": [
        {
          "name": "stdout",
          "output_type": "stream",
          "text": [
            "Accuracy is 50.22222222222222\n"
          ]
        }
      ],
      "source": [
        "from sklearn.linear_model import LogisticRegression\n",
        "model = LogisticRegression(random_state=4)\n",
        "classify(model, X, y)"
      ]
    },
    {
      "cell_type": "markdown",
      "metadata": {
        "id": "nS6fNwR-Gas8"
      },
      "source": [
        "### k-NN Classification"
      ]
    },
    {
      "cell_type": "code",
      "execution_count": null,
      "metadata": {
        "id": "4MQW1zNHGas9",
        "outputId": "9c8ae5d1-af06-4850-c409-9d8e1e25750c"
      },
      "outputs": [
        {
          "name": "stdout",
          "output_type": "stream",
          "text": [
            "Accuracy is 63.55555555555556\n"
          ]
        }
      ],
      "source": [
        "from sklearn.neighbors import KNeighborsClassifier\n",
        "model =  KNeighborsClassifier()\n",
        "classify(model, X, y)"
      ]
    },
    {
      "cell_type": "markdown",
      "metadata": {
        "id": "8-Wnoew5GatA"
      },
      "source": [
        "## Hyperparameter Tuning and Cross Validation"
      ]
    },
    {
      "cell_type": "markdown",
      "metadata": {
        "id": "1A0oHXqtGatA"
      },
      "source": [
        "### XGBoost Classifier + GridSearchCV"
      ]
    },
    {
      "cell_type": "code",
      "execution_count": null,
      "metadata": {
        "id": "EQflOfnqGatB",
        "outputId": "335a63b5-d053-42b0-c7a0-fe59ea047331"
      },
      "outputs": [
        {
          "name": "stdout",
          "output_type": "stream",
          "text": [
            "Fitting 5 folds for each of 27 candidates, totalling 135 fits\n"
          ]
        },
        {
          "name": "stderr",
          "output_type": "stream",
          "text": [
            "[Parallel(n_jobs=1)]: Using backend SequentialBackend with 1 concurrent workers.\n",
            "[Parallel(n_jobs=1)]: Done 135 out of 135 | elapsed:   23.2s finished\n"
          ]
        },
        {
          "name": "stdout",
          "output_type": "stream",
          "text": [
            "Accuracy is 79.11111111111111\n"
          ]
        }
      ],
      "source": [
        "from sklearn.model_selection import GridSearchCV\n",
        "\n",
        "xgb_model = XGBClassifier()\n",
        "optimization_dict = {'max_depth': [2,4,6],\n",
        "                      'n_estimators': [50,100,200],\n",
        "                     'base_score': [0.5,0.7,0.9],\n",
        "                     \"random_state\":[3]}\n",
        "\n",
        "model = GridSearchCV(xgb_model, optimization_dict, \n",
        "                      scoring='accuracy', verbose=1,cv=5)\n",
        "classify(model, X, y)"
      ]
    },
    {
      "cell_type": "markdown",
      "metadata": {
        "id": "Bt6h7eECGatD"
      },
      "source": [
        "### Random Forest Classifier + GridSearchCV"
      ]
    },
    {
      "cell_type": "code",
      "execution_count": null,
      "metadata": {
        "id": "pCmD54pmGatE",
        "outputId": "01c6d73b-c85e-459c-9278-90527be77a00"
      },
      "outputs": [
        {
          "name": "stdout",
          "output_type": "stream",
          "text": [
            "Fitting 5 folds for each of 30 candidates, totalling 150 fits\n"
          ]
        },
        {
          "name": "stderr",
          "output_type": "stream",
          "text": [
            "[Parallel(n_jobs=1)]: Using backend SequentialBackend with 1 concurrent workers.\n",
            "[Parallel(n_jobs=1)]: Done 150 out of 150 | elapsed:  1.0min finished\n"
          ]
        },
        {
          "name": "stdout",
          "output_type": "stream",
          "text": [
            "Accuracy is 80.66666666666666\n"
          ]
        }
      ],
      "source": [
        "from sklearn.model_selection import GridSearchCV\n",
        "\n",
        "rfc = RandomForestClassifier()\n",
        "param_grid = {\n",
        "    \"n_estimators\":[5,10,50,100,250],\n",
        "    \"max_depth\":[2,4,8,16,32,None],\n",
        "    \"random_state\":[7]\n",
        "}\n",
        "model = GridSearchCV(rfc, param_grid, \n",
        "                      scoring='accuracy', verbose=1,cv=5)\n",
        "classify(model, X, y)"
      ]
    },
    {
      "cell_type": "markdown",
      "metadata": {
        "id": "AlB2tuIsGatF"
      },
      "source": [
        "### Linear Regression + GridSearchCV"
      ]
    },
    {
      "cell_type": "code",
      "execution_count": null,
      "metadata": {
        "id": "Lh-6WAFIGatG",
        "outputId": "635b1d71-d1fb-44e8-e435-4c28c5c31819"
      },
      "outputs": [
        {
          "name": "stdout",
          "output_type": "stream",
          "text": [
            "Fitting 5 folds for each of 9 candidates, totalling 45 fits\n"
          ]
        },
        {
          "name": "stderr",
          "output_type": "stream",
          "text": [
            "[Parallel(n_jobs=1)]: Using backend SequentialBackend with 1 concurrent workers.\n"
          ]
        },
        {
          "name": "stdout",
          "output_type": "stream",
          "text": [
            "Accuracy is 50.22222222222222\n"
          ]
        },
        {
          "name": "stderr",
          "output_type": "stream",
          "text": [
            "[Parallel(n_jobs=1)]: Done  45 out of  45 | elapsed:    1.5s finished\n"
          ]
        }
      ],
      "source": [
        "from sklearn.model_selection import GridSearchCV\n",
        "\n",
        "lr_model = LogisticRegression()\n",
        "param_grid = {'tol': [0.01, 0.001, 0.0001],\n",
        "                      'max_iter': [100, 150, 200]}\n",
        "\n",
        "model = GridSearchCV(lr_model, param_grid, \n",
        "                      scoring='accuracy', verbose=1,cv=5)\n",
        "classify(model, X, y)"
      ]
    },
    {
      "cell_type": "markdown",
      "metadata": {
        "id": "HaAJ4ERRGatH"
      },
      "source": [
        "### k-NN Classification + GridSearchCV"
      ]
    },
    {
      "cell_type": "code",
      "execution_count": null,
      "metadata": {
        "id": "8iVu7AL0GatI",
        "outputId": "bf07f149-1a36-477b-e905-9a7892c95a9f"
      },
      "outputs": [
        {
          "name": "stderr",
          "output_type": "stream",
          "text": [
            "[Parallel(n_jobs=1)]: Using backend SequentialBackend with 1 concurrent workers.\n"
          ]
        },
        {
          "name": "stdout",
          "output_type": "stream",
          "text": [
            "Fitting 5 folds for each of 5 candidates, totalling 25 fits\n",
            "Accuracy is 65.55555555555556\n"
          ]
        },
        {
          "name": "stderr",
          "output_type": "stream",
          "text": [
            "[Parallel(n_jobs=1)]: Done  25 out of  25 | elapsed:    1.2s finished\n"
          ]
        }
      ],
      "source": [
        "knn_model = KNeighborsClassifier()\n",
        "param_grid = { 'n_neighbors': [3, 5, 7, 9, 11]}\n",
        "\n",
        "model = GridSearchCV(knn_model, param_grid, \n",
        "                      scoring='accuracy', verbose=1,cv=5)\n",
        "classify(model, X, y)"
      ]
    },
    {
      "cell_type": "markdown",
      "metadata": {
        "id": "MRhViJMAGatJ"
      },
      "source": [
        "## Findings and Results"
      ]
    },
    {
      "cell_type": "markdown",
      "metadata": {
        "id": "TNetQznSGatK"
      },
      "source": [
        "### Analysis based on Credit Score"
      ]
    },
    {
      "cell_type": "code",
      "execution_count": null,
      "metadata": {
        "scrolled": false,
        "id": "RosYhzVDGatK",
        "outputId": "2a088752-3db3-4335-fda6-6da7e701a074"
      },
      "outputs": [
        {
          "name": "stdout",
          "output_type": "stream",
          "text": [
            "Distribution of Applicants\n",
            "9    0.242979\n",
            "7    0.245106\n",
            "6    0.250638\n",
            "8    0.261277\n",
            "Name: Score, dtype: float64\n",
            "Probability of Loan by Credit Score\n",
            "Decision         0         1\n",
            "Score                       \n",
            "6         0.251273  0.748727\n",
            "7         0.244792  0.755208\n",
            "8         0.241042  0.758958\n",
            "9         0.252189  0.747811\n",
            "Probability of Credit Score by Loan\n",
            "Score            6         7         8         9\n",
            "Decision                                        \n",
            "0         0.254733  0.242685  0.254733  0.247849\n",
            "1         0.249293  0.245902  0.263426  0.241379\n"
          ]
        }
      ],
      "source": [
        "# Number of Applicants by Credit Score\n",
        "temp1 = df['Score'].value_counts(ascending = True, normalize = True)      \n",
        "\n",
        "# Probability of receiving a Loan by credit history\n",
        "temp2 = pd.crosstab(df['Score'], df['Decision'],normalize = 'index')\n",
        "\n",
        "# Probability of credit_history by Loan_Status\n",
        "temp2b = pd.crosstab(df['Decision'],df['Score'],normalize = 'index')\n",
        "\n",
        "print ('Distribution of Applicants')\n",
        "print (temp1)\n",
        "\n",
        "print ('Probability of Loan by Credit Score')\n",
        "print (temp2)\n",
        "\n",
        "print ('Probability of Credit Score by Loan')\n",
        "print (temp2b)"
      ]
    },
    {
      "cell_type": "markdown",
      "metadata": {
        "id": "sezYZZolGatM"
      },
      "source": [
        "#### Information above is visualised below"
      ]
    },
    {
      "cell_type": "code",
      "execution_count": null,
      "metadata": {
        "id": "ux2jgrkhGatN",
        "outputId": "e3aa05f6-d018-4e74-92a9-3a7dad8d5683"
      },
      "outputs": [
        {
          "data": {
            "image/png": "[encoded data removed]",
            "text/plain": [
              "<Figure size 864x576 with 3 Axes>"
            ]
          },
          "metadata": {},
          "output_type": "display_data"
        }
      ],
      "source": [
        "# Visualising the above tables \n",
        "\n",
        "#PLOT 1: Number of Applicants grouped by Credit Score\n",
        "with sns.axes_style('darkgrid'):    \n",
        "    fig = plt.figure(figsize = (12,8))  \n",
        "    ax1 = fig.add_subplot(221)         \n",
        "    temp1.plot(kind = 'bar', ax = ax1)\n",
        "    ax1.set_xlabel('Credit Score')      \n",
        "    ax1.set_ylabel('Number of Applicants')\n",
        "    ax1.set_title('Applicants by Credit Score')\n",
        "\n",
        "#PLOT 2: Probability of receiving Loan by Credit Score\n",
        "with sns.axes_style('darkgrid'):\n",
        "    ax2 = fig.add_subplot(222)  \n",
        "    temp2.plot(kind = \"bar\", stacked = True, ax = ax2) \n",
        "    ax2.set_xlabel('Credit Score') \n",
        "    ax2.set_ylabel('Probability of Receiving Loan')\n",
        "    ax2.set_title('Probability of Loan Approval by Credit Score')\n",
        "    \n",
        "#PlOT 3: Probability of Credit Score by Loan Status\n",
        "with sns.axes_style('darkgrid'):\n",
        "    ax3 = fig.add_subplot(223)  \n",
        "    temp2b.plot(kind = \"bar\", stacked = True, ax = ax3) \n",
        "    ax3.set_xlabel('Loan Approval Status') \n",
        "    ax3.set_ylabel('Probability of Receiving Loan')\n",
        "    ax3.set_title('Probability of Credit Score by Loan Decision')\n",
        "\n",
        "plt.tight_layout()"
      ]
    },
    {
      "cell_type": "markdown",
      "metadata": {
        "id": "liwgECDSGatO"
      },
      "source": [
        "##### The above tables/graphs reveal some important insights about the Credit Score.\n",
        "\n",
        "- All applicants have a similar proportionate of credit scores which is around **25%**.This happens because all applicants have similar distribution of credit scores.\n",
        "\n",
        "- All Credit Scores have similar approval and rejection rate which is around **75%** and **25%** respectively.\n",
        "\n",
        "- All approval and rejection of loans have the same probability of having a particular credit score which is around **25%**\n"
      ]
    },
    {
      "cell_type": "markdown",
      "metadata": {
        "id": "9SUMEZZFGatP"
      },
      "source": [
        "### Analysis Based on Loan Decision"
      ]
    },
    {
      "cell_type": "code",
      "execution_count": null,
      "metadata": {
        "id": "vaZlCLRaGatR",
        "outputId": "6cc83e39-6e77-4d63-cb07-f8eb1021062f"
      },
      "outputs": [
        {
          "name": "stdout",
          "output_type": "stream",
          "text": [
            "Decision           Accept    Reject\n",
            "Employment_Type                    \n",
            "Fresh_Graduate   0.741818  0.258182\n",
            "Self_Employed    0.730000  0.270000\n",
            "employee         0.761667  0.238333\n",
            "employer         0.735000  0.265000\n",
            "government       0.797500  0.202500\n"
          ]
        },
        {
          "data": {
            "text/plain": [
              "<matplotlib.axes._subplots.AxesSubplot at 0x1eaa3545b48>"
            ]
          },
          "execution_count": 67,
          "metadata": {},
          "output_type": "execute_result"
        },
        {
          "data": {
            "image/png": "[encoded data removed]",
            "text/plain": [
              "<Figure size 432x288 with 1 Axes>"
            ]
          },
          "metadata": {
            "needs_background": "light"
          },
          "output_type": "display_data"
        }
      ],
      "source": [
        "print\n",
        "temp3 = pd.crosstab(index = df2['Employment_Type'],columns = df2['Decision'],normalize = 'index')\n",
        "print (temp3)\n",
        "\n",
        "sns.countplot(x=\"Employment_Type\", hue='Decision', data=df2)\n"
      ]
    },
    {
      "cell_type": "markdown",
      "metadata": {
        "id": "2qpqKPo7GatS"
      },
      "source": [
        "- The countplot shows that applicants who works in the goverment has a higher approval rate for loans.There is no significant difference in loan approval rates for the rest of the category."
      ]
    },
    {
      "cell_type": "code",
      "execution_count": null,
      "metadata": {
        "id": "VnMT8HkHGatT",
        "outputId": "447445d4-7010-4931-9a5b-b8529dba150a"
      },
      "outputs": [
        {
          "name": "stdout",
          "output_type": "stream",
          "text": [
            "Decision         Accept    Reject\n",
            "Property_Type                    \n",
            "bungalow       0.754902  0.245098\n",
            "condominium    0.753984  0.246016\n",
            "flat           0.718750  0.281250\n",
            "terrace        0.775862  0.224138\n",
            "Decision             Accept    Reject\n",
            "Credit_Card_types                    \n",
            "gold               0.740798  0.259202\n",
            "normal             0.749328  0.250672\n",
            "platinum           0.814286  0.185714\n"
          ]
        },
        {
          "data": {
            "image/png": "[encoded data removed]",
            "text/plain": [
              "<Figure size 432x288 with 1 Axes>"
            ]
          },
          "metadata": {
            "needs_background": "light"
          },
          "output_type": "display_data"
        },
        {
          "data": {
            "image/png": "[encoded data removed]",
            "text/plain": [
              "<Figure size 432x288 with 1 Axes>"
            ]
          },
          "metadata": {
            "needs_background": "light"
          },
          "output_type": "display_data"
        }
      ],
      "source": [
        "\n",
        "print\n",
        "temp4 = pd.crosstab(index = df2['Property_Type'],columns = df2['Decision'],normalize = 'index')\n",
        "print (temp4)\n",
        "\n",
        "\n",
        "print\n",
        "temp4b = pd.crosstab(index = df2['Credit_Card_types'],columns = df2['Decision'],normalize = 'index')\n",
        "print (temp4b)\n",
        "\n",
        "\n",
        "# Probability of Loan Approval and Rejection by Property Type\n",
        "temp4.plot(kind = 'bar', stacked = True)\n",
        "plt.show()\n",
        "\n",
        "# Loan Approval and Rejection by Credit Card type\n",
        "\n",
        "temp4b.plot(kind = 'bar', stacked = True)\n",
        "plt.show()"
      ]
    },
    {
      "cell_type": "markdown",
      "metadata": {
        "id": "9Du6ZhpyGat7"
      },
      "source": [
        "##### The above tables/graphs reveal some important insights about Loan approvals and rejections.\n",
        "\n",
        "- The probability of receiving a loan by Property Type is nearly similar for all the Property Type in the dataset except flat which has slightly higher rejection rate (28%) .\n",
        "- The probability of receiving a loan by Credit Card Type is nearly similar for gold and normal. (Approval : 74% Rejection : 25%). Platinum card however has higher approval rate and lower rejection rate. (Approval : 81% Rejection : 18%). This shows that applicants with Platinum card has higher change of getting their loan accepted compared to applicants with Gold and Normal card."
      ]
    },
    {
      "cell_type": "markdown",
      "metadata": {
        "id": "fDD7NMX5Gat8"
      },
      "source": [
        "### Analysis Based on Income"
      ]
    },
    {
      "cell_type": "code",
      "execution_count": null,
      "metadata": {
        "id": "uKQldpzjGat_",
        "outputId": "7e60b7eb-53c5-4bdc-a8b4-3c682c7f302b"
      },
      "outputs": [
        {
          "data": {
            "text/plain": [
              "<matplotlib.axes._subplots.AxesSubplot at 0x1eaa340d648>"
            ]
          },
          "execution_count": 69,
          "metadata": {},
          "output_type": "execute_result"
        },
        {
          "data": {
            "image/png": "[encoded data removed]",
            "text/plain": [
              "<Figure size 432x288 with 1 Axes>"
            ]
          },
          "metadata": {
            "needs_background": "light"
          },
          "output_type": "display_data"
        }
      ],
      "source": [
        "monthly_salary_quantile = list(df['Monthly_Salary'].quantile([0.25,0.5,0.75]))\n",
        "\n",
        "def salary_group(x):\n",
        "    if x>=monthly_salary_quantile[2]:\n",
        "        return \"High\"\n",
        "    elif x>=monthly_salary_quantile[1]:\n",
        "        return \"Medium\"\n",
        "    else:\n",
        "        return \"Low\"\n",
        "df['Income_Range'] = df['Monthly_Salary'].apply(lambda x: salary_group(x))\n",
        "\n",
        "sns.barplot(x='Income_Range',y=\"Loan_Amount\", hue='Decision',data=df)\n",
        "\n"
      ]
    },
    {
      "cell_type": "code",
      "execution_count": null,
      "metadata": {
        "id": "30BPc-KyGauA",
        "outputId": "b026dd22-914b-4abd-d690-74e292148d18"
      },
      "outputs": [
        {
          "data": {
            "text/plain": [
              "<matplotlib.axes._subplots.AxesSubplot at 0x1eaa3498a08>"
            ]
          },
          "execution_count": 70,
          "metadata": {},
          "output_type": "execute_result"
        },
        {
          "data": {
            "image/png": "[encoded data removed]",
            "text/plain": [
              "<Figure size 432x288 with 1 Axes>"
            ]
          },
          "metadata": {
            "needs_background": "light"
          },
          "output_type": "display_data"
        }
      ],
      "source": [
        "sns.barplot(x='Income_Range',y=\"Total_Sum_of_Loan\", hue='Decision',data=df)\n"
      ]
    },
    {
      "cell_type": "markdown",
      "metadata": {
        "id": "8_H_tqxdGauD"
      },
      "source": [
        "##### The above tables/graphs reveal some important insights about personal Income.\n",
        "   - Applicants in the medium and low income range applied for a higher amount of loan compared to applicants with high income. They also have higher amount of total sum of loan compared to applicants in high income range.This could be due to applicabts taking higher amount of loan to cover their expenses as they cannot cover it with their initial savings.\n",
        "     \n",
        "   - Applicants in the medium and low range has a higher rejection rate than acceptance rate for loan approval. This could be the result of inability to pay back the loan due to having a medium income range and a high loan amount in hand to pay back.\n",
        "    \n",
        "   - Applicants in the high income range has higher acceptance rate than rejection rate. They also loan lesser than people of medium and low income range.Applicants in the high income range has ability to payback loan faster and have capability to pay a higher initial amount for their expenses"
      ]
    },
    {
      "cell_type": "markdown",
      "metadata": {
        "id": "u9YH-ycJGauF"
      },
      "source": [
        "### Results for XGBoost"
      ]
    },
    {
      "cell_type": "code",
      "execution_count": null,
      "metadata": {
        "id": "truvxGjsGauG",
        "outputId": "7132e78e-3f14-4606-ecd5-49d43eead69d"
      },
      "outputs": [
        {
          "name": "stdout",
          "output_type": "stream",
          "text": [
            "Fitting 5 folds for each of 27 candidates, totalling 135 fits\n"
          ]
        },
        {
          "name": "stderr",
          "output_type": "stream",
          "text": [
            "[Parallel(n_jobs=1)]: Using backend SequentialBackend with 1 concurrent workers.\n",
            "[Parallel(n_jobs=1)]: Done 135 out of 135 | elapsed:   22.9s finished\n"
          ]
        },
        {
          "name": "stdout",
          "output_type": "stream",
          "text": [
            "Accuracy on test set: 0.7911111111111111\n",
            "AUC: 0.7888805966460899\n",
            "Majority classifier Confusion Matrix\n",
            " [[311 126]\n",
            " [ 62 401]]\n",
            "***\n",
            "Majority TN=  311\n",
            "Majority FP= 126\n",
            "Majority FN=  62\n",
            "Majority TP=  401\n",
            "***\n",
            "Precision= 0.76\n",
            "Recall= 0.87\n",
            "F1= 0.81\n",
            "Accuracy= 0.79\n"
          ]
        }
      ],
      "source": [
        "from sklearn.model_selection import GridSearchCV\n",
        "\n",
        "\n",
        "xgb_model = XGBClassifier()\n",
        "optimization_dict = {'max_depth': [2,4,6],\n",
        "                      'n_estimators': [50,100,200],\n",
        "                     'base_score': [0.5,0.7,0.9],\n",
        "                     \"random_state\":[3]}\n",
        "\n",
        "X_train, X_test, y_train, y_test = train_test_split(X, y, test_size=0.25, random_state=42)\n",
        "xgb_model.fit(X_train, y_train)\n",
        "y_pred = xgb_model.predict(X_test)\n",
        "    \n",
        "xgb = GridSearchCV(xgb_model, optimization_dict,scoring='accuracy', verbose=1,cv=5)\n",
        "xgb.fit(X_train, y_train)\n",
        "y_pred = xgb.predict(X_test)\n",
        "fpr_xgb, tpr_xgb, thresholds_xgb = roc_curve(y_test, y_pred)\n",
        "\n",
        "print(\"Accuracy on test set:\" ,format(xgb.score(X_test, y_test)))\n",
        "print(\"AUC:\",format(roc_auc_score(y_test, y_pred)))\n",
        "\n",
        "confusion_majority=confusion_matrix(y_test, y_pred)\n",
        "\n",
        "print('Majority classifier Confusion Matrix\\n', confusion_majority)\n",
        "print('***')\n",
        "print('Majority TN= ', confusion_majority[0][0])\n",
        "print('Majority FP=', confusion_majority[0][1])\n",
        "print('Majority FN= ', confusion_majority[1][0])\n",
        "print('Majority TP= ', confusion_majority[1][1])\n",
        "print('***')\n",
        "\n",
        "print('Precision= {:.2f}'.format(precision_score(y_test, y_pred)))\n",
        "print('Recall= {:.2f}'. format(recall_score(y_test, y_pred)))\n",
        "print('F1= {:.2f}'. format(f1_score(y_test, y_pred)))\n",
        "print('Accuracy= {:.2f}'. format(accuracy_score(y_test, y_pred)))"
      ]
    },
    {
      "cell_type": "markdown",
      "metadata": {
        "id": "Tqqplu9DGauP"
      },
      "source": [
        "### Results for Random Forest Classifier"
      ]
    },
    {
      "cell_type": "code",
      "execution_count": null,
      "metadata": {
        "id": "q6GYKyN_GauQ",
        "outputId": "24a6ca22-b58f-4f37-bc8f-a0b951afefd9"
      },
      "outputs": [
        {
          "name": "stdout",
          "output_type": "stream",
          "text": [
            "Fitting 5 folds for each of 30 candidates, totalling 150 fits\n"
          ]
        },
        {
          "name": "stderr",
          "output_type": "stream",
          "text": [
            "[Parallel(n_jobs=1)]: Using backend SequentialBackend with 1 concurrent workers.\n",
            "[Parallel(n_jobs=1)]: Done 150 out of 150 | elapsed:   44.7s finished\n"
          ]
        },
        {
          "name": "stdout",
          "output_type": "stream",
          "text": [
            "Accuracy on test set: 0.8066666666666666\n",
            "AUC: 0.8035496290731525\n",
            "Majority classifier Confusion Matrix\n",
            " [[304 133]\n",
            " [ 41 422]]\n",
            "***\n",
            "Majority TN=  304\n",
            "Majority FP= 133\n",
            "Majority FN=  41\n",
            "Majority TP=  422\n",
            "***\n",
            "Precision= 0.76\n",
            "Recall= 0.91\n",
            "F1= 0.83\n",
            "Accuracy= 0.81\n"
          ]
        }
      ],
      "source": [
        "from sklearn.model_selection import GridSearchCV\n",
        "\n",
        "rfc = RandomForestClassifier()\n",
        "param_grid = {\n",
        "    \"n_estimators\":[5,10,50,100,250],\n",
        "    \"max_depth\":[2,4,8,16,32,None],\n",
        "    \"random_state\":[7]\n",
        "}\n",
        "\n",
        "X_train, X_test, y_train, y_test = train_test_split(X, y, test_size=0.25, random_state=42)\n",
        "rfc.fit(X_train, y_train)\n",
        "y_pred = rfc.predict(X_test)\n",
        "\n",
        "rfcm = GridSearchCV(rfc, param_grid, \n",
        "                      scoring='accuracy', verbose=1,cv=5)\n",
        "rfcm.fit(X_train, y_train)\n",
        "y_pred = rfcm.predict(X_test)\n",
        "fpr_rfcm, tpr_rfcm, thresholds_rfcm = roc_curve(y_test, y_pred)\n",
        "\n",
        "print(\"Accuracy on test set:\" ,format(rfcm.score(X_test, y_test)))\n",
        "print(\"AUC:\",format(roc_auc_score(y_test, y_pred)))\n",
        "\n",
        "confusion_majority=confusion_matrix(y_test, y_pred)\n",
        "\n",
        "print('Majority classifier Confusion Matrix\\n', confusion_majority)\n",
        "print('***')\n",
        "print('Majority TN= ', confusion_majority[0][0])\n",
        "print('Majority FP=', confusion_majority[0][1])\n",
        "print('Majority FN= ', confusion_majority[1][0])\n",
        "print('Majority TP= ', confusion_majority[1][1])\n",
        "print('***')\n",
        "\n",
        "print('Precision= {:.2f}'.format(precision_score(y_test, y_pred)))\n",
        "print('Recall= {:.2f}'. format(recall_score(y_test, y_pred)))\n",
        "print('F1= {:.2f}'. format(f1_score(y_test, y_pred)))\n",
        "print('Accuracy= {:.2f}'. format(accuracy_score(y_test, y_pred)))"
      ]
    },
    {
      "cell_type": "markdown",
      "metadata": {
        "id": "1yyHUlGqGauS"
      },
      "source": [
        "### Results for Linear Regression"
      ]
    },
    {
      "cell_type": "code",
      "execution_count": null,
      "metadata": {
        "id": "J9J7wnFUGauU",
        "outputId": "eeab5d03-75b2-4243-ae21-b1fb0d62afb1"
      },
      "outputs": [
        {
          "name": "stdout",
          "output_type": "stream",
          "text": [
            "Fitting 5 folds for each of 9 candidates, totalling 45 fits\n"
          ]
        },
        {
          "name": "stderr",
          "output_type": "stream",
          "text": [
            "[Parallel(n_jobs=1)]: Using backend SequentialBackend with 1 concurrent workers.\n"
          ]
        },
        {
          "name": "stdout",
          "output_type": "stream",
          "text": [
            "Accuracy on test set: 0.5022222222222222\n",
            "AUC: 0.514399671824881\n",
            "Majority classifier Confusion Matrix\n",
            " [[409  28]\n",
            " [420  43]]\n",
            "***\n",
            "Majority TN=  409\n",
            "Majority FP= 28\n",
            "Majority FN=  420\n",
            "Majority TP=  43\n",
            "***\n",
            "Precision= 0.61\n",
            "Recall= 0.09\n",
            "F1= 0.16\n",
            "Accuracy= 0.50\n"
          ]
        },
        {
          "name": "stderr",
          "output_type": "stream",
          "text": [
            "[Parallel(n_jobs=1)]: Done  45 out of  45 | elapsed:    1.1s finished\n"
          ]
        }
      ],
      "source": [
        "from sklearn.model_selection import GridSearchCV\n",
        "\n",
        "lr_model = LogisticRegression()\n",
        "param_grid = {'tol': [0.01, 0.001, 0.0001],\n",
        "              'max_iter': [100, 150, 200]}\n",
        "\n",
        "X_train, X_test, y_train, y_test = train_test_split(X, y, test_size=0.25, random_state=42)\n",
        "lr_model.fit(X_train, y_train)\n",
        "y_pred = lr_model.predict(X_test)\n",
        "\n",
        "lrm = GridSearchCV(lr_model, param_grid, \n",
        "                      scoring='accuracy', verbose=1,cv=5)\n",
        "\n",
        "lrm.fit(X_train, y_train)\n",
        "y_pred = lrm.predict(X_test)\n",
        "fpr_lrm, tpr_lrm, thresholds_lrm = roc_curve(y_test, y_pred)\n",
        "\n",
        "print(\"Accuracy on test set:\" ,format(lrm.score(X_test, y_test)))\n",
        "print(\"AUC:\",format(roc_auc_score(y_test, y_pred)))\n",
        "\n",
        "confusion_majority=confusion_matrix(y_test, y_pred)\n",
        "\n",
        "print('Majority classifier Confusion Matrix\\n', confusion_majority)\n",
        "print('***')\n",
        "print('Majority TN= ', confusion_majority[0][0])\n",
        "print('Majority FP=', confusion_majority[0][1])\n",
        "print('Majority FN= ', confusion_majority[1][0])\n",
        "print('Majority TP= ', confusion_majority[1][1])\n",
        "print('***')\n",
        "\n",
        "print('Precision= {:.2f}'.format(precision_score(y_test, y_pred)))\n",
        "print('Recall= {:.2f}'. format(recall_score(y_test, y_pred)))\n",
        "print('F1= {:.2f}'. format(f1_score(y_test, y_pred)))\n",
        "print('Accuracy= {:.2f}'. format(accuracy_score(y_test, y_pred)))"
      ]
    },
    {
      "cell_type": "markdown",
      "metadata": {
        "id": "-Xv7uCWlGauV"
      },
      "source": [
        "### Results for k-NN Classification"
      ]
    },
    {
      "cell_type": "code",
      "execution_count": null,
      "metadata": {
        "id": "ReGa7OiRGauW",
        "outputId": "4eeef0e0-4483-497a-de83-b3f441a1e09c"
      },
      "outputs": [
        {
          "name": "stderr",
          "output_type": "stream",
          "text": [
            "[Parallel(n_jobs=1)]: Using backend SequentialBackend with 1 concurrent workers.\n"
          ]
        },
        {
          "name": "stdout",
          "output_type": "stream",
          "text": [
            "Fitting 5 folds for each of 5 candidates, totalling 25 fits\n",
            "Accuracy on test set: 0.6555555555555556\n",
            "AUC: 0.6600224384795212\n",
            "Majority classifier Confusion Matrix\n",
            " [[356  81]\n",
            " [229 234]]\n",
            "***\n",
            "Majority TN=  356\n",
            "Majority FP= 81\n",
            "Majority FN=  229\n",
            "Majority TP=  234\n",
            "***\n",
            "Precision= 0.74\n",
            "Recall= 0.51\n",
            "F1= 0.60\n",
            "Accuracy= 0.66\n"
          ]
        },
        {
          "name": "stderr",
          "output_type": "stream",
          "text": [
            "[Parallel(n_jobs=1)]: Done  25 out of  25 | elapsed:    0.9s finished\n"
          ]
        }
      ],
      "source": [
        "knn_model = KNeighborsClassifier()\n",
        "param_grid = { 'n_neighbors': [3, 5, 7, 9, 11]}\n",
        "\n",
        "X_train, X_test, y_train, y_test = train_test_split(X, y, test_size=0.25, random_state=42)\n",
        "knn_model.fit(X_train, y_train)\n",
        "y_pred = knn_model.predict(X_test)\n",
        "\n",
        "knn = GridSearchCV(knn_model, param_grid,scoring='accuracy', verbose=1,cv=5)\n",
        "\n",
        "knn.fit(X_train, y_train)\n",
        "y_pred = knn.predict(X_test)\n",
        "fpr_knn, tpr_knn, thresholds_knn = roc_curve(y_test, y_pred)\n",
        "\n",
        "print(\"Accuracy on test set:\" ,format(knn.score(X_test, y_test)))\n",
        "print(\"AUC:\",format(roc_auc_score(y_test, y_pred)))\n",
        "\n",
        "confusion_majority=confusion_matrix(y_test, y_pred)\n",
        "\n",
        "print('Majority classifier Confusion Matrix\\n', confusion_majority)\n",
        "print('***')\n",
        "print('Majority TN= ', confusion_majority[0][0])\n",
        "print('Majority FP=', confusion_majority[0][1])\n",
        "print('Majority FN= ', confusion_majority[1][0])\n",
        "print('Majority TP= ', confusion_majority[1][1])\n",
        "print('***')\n",
        "\n",
        "print('Precision= {:.2f}'.format(precision_score(y_test, y_pred)))\n",
        "print('Recall= {:.2f}'. format(recall_score(y_test, y_pred)))\n",
        "print('F1= {:.2f}'. format(f1_score(y_test, y_pred)))\n",
        "print('Accuracy= {:.2f}'. format(accuracy_score(y_test, y_pred)))"
      ]
    },
    {
      "cell_type": "code",
      "execution_count": null,
      "metadata": {
        "id": "uUu3TaQjGauX",
        "outputId": "a1f56671-e05b-4f67-bae1-96077c91140c"
      },
      "outputs": [
        {
          "data": {
            "text/plain": [
              "<matplotlib.legend.Legend at 0x1eaa37dbd88>"
            ]
          },
          "execution_count": 75,
          "metadata": {},
          "output_type": "execute_result"
        },
        {
          "data": {
            "image/png": "[encoded data removed]",
            "text/plain": [
              "<Figure size 432x288 with 1 Axes>"
            ]
          },
          "metadata": {
            "needs_background": "light"
          },
          "output_type": "display_data"
        }
      ],
      "source": [
        "plt.plot(fpr_xgb, tpr_xgb, color=\"red\", label=\"XGBoost\")\n",
        "plt.plot(fpr_rfcm, tpr_rfcm, color=\"green\", label=\"Random Forest\")\n",
        "plt.plot(fpr_lrm, tpr_lrm, color=\"yellow\", label=\"Linear Regression\")\n",
        "plt.plot(fpr_knn, tpr_knn, color=\"blue\", label=\"k-NN \")\n",
        "plt.title('Receiver Operating Characteristic (ROC) Curve')\n",
        "plt.legend()"
      ]
    },
    {
      "cell_type": "code",
      "execution_count": null,
      "metadata": {
        "id": "3a0MHGt0GauY"
      },
      "outputs": [],
      "source": [
        ""
      ]
    },
    {
      "cell_type": "code",
      "execution_count": null,
      "metadata": {
        "id": "aXnbicBXGauZ"
      },
      "outputs": [],
      "source": [
        ""
      ]
    },
    {
      "cell_type": "code",
      "execution_count": null,
      "metadata": {
        "id": "PvQ_jqCwGaua"
      },
      "outputs": [],
      "source": [
        ""
      ]
    }
  ],
  "metadata": {
    "kernelspec": {
      "display_name": "Python 3",
      "language": "python",
      "name": "python3"
    },
    "language_info": {
      "codemirror_mode": {
        "name": "ipython",
        "version": 3
      },
      "file_extension": ".py",
      "mimetype": "text/x-python",
      "name": "python",
      "nbconvert_exporter": "python",
      "pygments_lexer": "ipython3",
      "version": "3.7.4"
    },
    "toc-autonumbering": false,
    "toc-showmarkdowntxt": false,
    "colab": {
      "name": "Loan Decision System.ipynb",
      "provenance": [],
      "collapsed_sections": [
        "14nJpyFOGamf",
        "rjBpEhvgGams",
        "WKjTkwOHGao2",
        "pHjdgzd_GapB",
        "tiRAeAoiGapR",
        "fZAPQu0jGapa",
        "37zZfWdYGaqY",
        "NmlB0AZSGaqZ",
        "cthvlihUGaqc",
        "M4UbNb6jGaqe",
        "Gp5cDD8dGaqh",
        "3t03xU8aGaql",
        "pvnf-a-QGaqz",
        "KndS0ojUGaq1",
        "itoxhJ1-Gaq6",
        "-S15ARxHGarr",
        "cHNLj_3dGaru",
        "7WSedvn_Gar9",
        "rMZEE0h3GasB",
        "YzZvNQo7Gasy",
        "3-peEHDOGas3",
        "EVNMZViSGas6",
        "nS6fNwR-Gas8",
        "8-Wnoew5GatA",
        "1A0oHXqtGatA",
        "Bt6h7eECGatD",
        "AlB2tuIsGatF",
        "HaAJ4ERRGatH",
        "MRhViJMAGatJ",
        "TNetQznSGatK",
        "sezYZZolGatM",
        "9SUMEZZFGatP",
        "fDD7NMX5Gat8",
        "u9YH-ycJGauF",
        "Tqqplu9DGauP",
        "1yyHUlGqGauS",
        "-Xv7uCWlGauV"
      ],
      "include_colab_link": true
    }
  },
  "nbformat": 4,
  "nbformat_minor": 0
}